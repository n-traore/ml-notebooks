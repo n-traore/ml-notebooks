{
 "cells": [
  {
   "cell_type": "markdown",
   "metadata": {
    "slideshow": {
     "slide_type": "slide"
    }
   },
   "source": [
    "# Random Forest sur le jeu de données mfeat\n",
    "\n",
    "**Description**  \n",
    "On dispose de 2000 images décrites par 6 ensembles d’indicateurs (coefficients de Fourier, profil de corrélations, coefficients de Karhunen-Love, valeurs des pixels moyennés, moments de Zernike, morphologie). Chacune de ces images représente un chiffre manuscrit. Une description des données est disponible [ici](https://archive.ics.uci.edu/ml/datasets/Multiple+Features)."
   ]
  },
  {
   "cell_type": "markdown",
   "metadata": {
    "slideshow": {
     "slide_type": "slide"
    }
   },
   "source": [
    "Quelques liens pour comprendre la signification des variables:  \n",
    "\n",
    "* Série de Fourier: http://maths.cnam.fr/Didacticiels/Sur_Le_Traitement_Du_Son/coinmath.htm  \n",
    "\n",
    "\n",
    "* Coefficient de Karhunen-Love: http://www.tsi.enst.fr/pages/enseignement/ressources/mti/KL/site/principe_KL.html  \n",
    "\n",
    "\n",
    "* Pour les pixels : https://images.math.cnrs.fr/Le-traitement-numerique-des-images.html?lang=fr  "
   ]
  },
  {
   "cell_type": "markdown",
   "metadata": {},
   "source": [
    "##### RUBRIQUES\n",
    "\n",
    "[IMPORTS](#imports)  \n",
    "\n",
    "\n",
    "[REGLAGES DU NOTEBOOK](#reglages)  \n",
    "\n",
    "[IMPORT, VÉRIFICATION ET MANIPULATION DES DONNÉES](#import_check)  \n",
    "\n",
    "[ANALYSE UNIVARIÉE ET BIVARIÉE](#analyse_exploratoire_uni_bi)  \n",
    "\n",
    "[SÉPARATION DU JEU DE DONNÉES: TRAIN vs VAL](#separation_data)  \n",
    "\n",
    "[RANDOM FOREST](#rf)  \n",
    "\n",
    "[REQUIREMENTS.txt](#requirements)"
   ]
  },
  {
   "cell_type": "markdown",
   "metadata": {
    "slideshow": {
     "slide_type": "skip"
    }
   },
   "source": [
    "### <a id=\"imports\" style=\"color:black\">IMPORTS</a>"
   ]
  },
  {
   "cell_type": "code",
   "execution_count": 1,
   "metadata": {
    "slideshow": {
     "slide_type": "skip"
    }
   },
   "outputs": [],
   "source": [
    "import pandas as pd\n",
    "import matplotlib.pyplot as plt\n",
    "import numpy as np\n",
    "\n",
    "from sklearn.model_selection import train_test_split, GridSearchCV\n",
    "from sklearn.preprocessing import StandardScaler\n",
    "from sklearn import metrics\n",
    "\n",
    "from sklearn.ensemble import RandomForestClassifier\n",
    "\n",
    "np.random.seed(2020)"
   ]
  },
  {
   "cell_type": "markdown",
   "metadata": {
    "slideshow": {
     "slide_type": "skip"
    }
   },
   "source": [
    "### <a id=\"reglages\" style=\"color:black\">REGLAGES DU NOTEBOOK</a>"
   ]
  },
  {
   "cell_type": "code",
   "execution_count": 2,
   "metadata": {
    "slideshow": {
     "slide_type": "skip"
    }
   },
   "outputs": [],
   "source": [
    "## Nombre de lignes/colonnes que Pandas peut afficher dans le notebook\n",
    "pd.set_option('display.max_rows', 200)\n",
    "#pd.set_option('display.max_columns', 500)\n",
    "\n",
    "\n",
    "## Hauteur/largeur maximale des cellules que Pandas peut afficher dans le notebook sans tronquer\n",
    "#pd.set_option('display.width', 1000)\n",
    "\n",
    "\n",
    "## Affichage des nombres à virgule en gardant seulement 5 chiffres après la virgule\n",
    "pd.set_option('display.float_format', lambda x: '%.5f' % x)\n",
    "\n",
    "\n",
    "## Nombre d'éléments max qu'on peut afficher dans un array + suppression de notation scientifique\n",
    "np.set_printoptions(threshold=200,suppress=True)"
   ]
  },
  {
   "cell_type": "markdown",
   "metadata": {
    "slideshow": {
     "slide_type": "skip"
    }
   },
   "source": [
    "## <a id=\"import_check\" style=\"color:black\">IMPORT, VÉRIFICATION ET MANIPULATION DES DONNÉES</a>\n"
   ]
  },
  {
   "cell_type": "code",
   "execution_count": 3,
   "metadata": {
    "slideshow": {
     "slide_type": "skip"
    }
   },
   "outputs": [],
   "source": [
    "df_train = pd.read_csv(\"../data/csv-txt/mfeat/data_train.csv\")"
   ]
  },
  {
   "cell_type": "code",
   "execution_count": 4,
   "metadata": {
    "slideshow": {
     "slide_type": "skip"
    }
   },
   "outputs": [
    {
     "name": "stdout",
     "output_type": "stream",
     "text": [
      "<class 'pandas.core.frame.DataFrame'>\n",
      "RangeIndex: 1500 entries, 0 to 1499\n",
      "Columns: 650 entries, fac_1 to class\n",
      "dtypes: float64(190), int64(460)\n",
      "memory usage: 7.4 MB\n"
     ]
    }
   ],
   "source": [
    "df_train.info()"
   ]
  },
  {
   "cell_type": "code",
   "execution_count": 5,
   "metadata": {
    "slideshow": {
     "slide_type": "skip"
    }
   },
   "outputs": [
    {
     "data": {
      "text/plain": [
       "array([dtype('int64'), dtype('float64')], dtype=object)"
      ]
     },
     "execution_count": 5,
     "metadata": {},
     "output_type": "execute_result"
    }
   ],
   "source": [
    "df_train.dtypes.unique()"
   ]
  },
  {
   "cell_type": "code",
   "execution_count": 6,
   "metadata": {
    "scrolled": true,
    "slideshow": {
     "slide_type": "skip"
    }
   },
   "outputs": [],
   "source": [
    "# Mettre la variable 'class' en string\n",
    "df_train[\"class\"] = df_train[\"class\"].astype(str)"
   ]
  },
  {
   "cell_type": "code",
   "execution_count": 7,
   "metadata": {
    "scrolled": true,
    "slideshow": {
     "slide_type": "skip"
    }
   },
   "outputs": [
    {
     "data": {
      "text/plain": [
       "fac_1       int64\n",
       "fac_2       int64\n",
       "fac_3       int64\n",
       "fac_4       int64\n",
       "fac_5       int64\n",
       "           ...   \n",
       "zer_44    float64\n",
       "zer_45    float64\n",
       "zer_46    float64\n",
       "zer_47    float64\n",
       "class      object\n",
       "Length: 650, dtype: object"
      ]
     },
     "execution_count": 7,
     "metadata": {},
     "output_type": "execute_result"
    }
   ],
   "source": [
    "df_train.dtypes"
   ]
  },
  {
   "cell_type": "code",
   "execution_count": 8,
   "metadata": {
    "scrolled": true,
    "slideshow": {
     "slide_type": "skip"
    }
   },
   "outputs": [
    {
     "data": {
      "text/plain": [
       "count     1500\n",
       "unique      10\n",
       "top          0\n",
       "freq       150\n",
       "Name: class, dtype: object"
      ]
     },
     "execution_count": 8,
     "metadata": {},
     "output_type": "execute_result"
    }
   ],
   "source": [
    "df_train[\"class\"].describe()"
   ]
  },
  {
   "cell_type": "code",
   "execution_count": 9,
   "metadata": {},
   "outputs": [
    {
     "data": {
      "text/html": [
       "<div>\n",
       "<style scoped>\n",
       "    .dataframe tbody tr th:only-of-type {\n",
       "        vertical-align: middle;\n",
       "    }\n",
       "\n",
       "    .dataframe tbody tr th {\n",
       "        vertical-align: top;\n",
       "    }\n",
       "\n",
       "    .dataframe thead th {\n",
       "        text-align: right;\n",
       "    }\n",
       "</style>\n",
       "<table border=\"1\" class=\"dataframe\">\n",
       "  <thead>\n",
       "    <tr style=\"text-align: right;\">\n",
       "      <th></th>\n",
       "      <th>fac_1</th>\n",
       "      <th>fac_2</th>\n",
       "      <th>fac_3</th>\n",
       "      <th>fac_4</th>\n",
       "      <th>fac_5</th>\n",
       "      <th>fac_6</th>\n",
       "      <th>fac_7</th>\n",
       "      <th>fac_8</th>\n",
       "      <th>fac_9</th>\n",
       "      <th>fac_10</th>\n",
       "      <th>...</th>\n",
       "      <th>zer_39</th>\n",
       "      <th>zer_40</th>\n",
       "      <th>zer_41</th>\n",
       "      <th>zer_42</th>\n",
       "      <th>zer_43</th>\n",
       "      <th>zer_44</th>\n",
       "      <th>zer_45</th>\n",
       "      <th>zer_46</th>\n",
       "      <th>zer_47</th>\n",
       "      <th>class</th>\n",
       "    </tr>\n",
       "  </thead>\n",
       "  <tbody>\n",
       "    <tr>\n",
       "      <th>0</th>\n",
       "      <td>182</td>\n",
       "      <td>192</td>\n",
       "      <td>575</td>\n",
       "      <td>657</td>\n",
       "      <td>650</td>\n",
       "      <td>702</td>\n",
       "      <td>1</td>\n",
       "      <td>9</td>\n",
       "      <td>5</td>\n",
       "      <td>6</td>\n",
       "      <td>...</td>\n",
       "      <td>30.37704</td>\n",
       "      <td>8.13780</td>\n",
       "      <td>4.24529</td>\n",
       "      <td>179.84887</td>\n",
       "      <td>331.68767</td>\n",
       "      <td>8.04001</td>\n",
       "      <td>16.30939</td>\n",
       "      <td>53.62373</td>\n",
       "      <td>487.26241</td>\n",
       "      <td>0</td>\n",
       "    </tr>\n",
       "    <tr>\n",
       "      <th>1</th>\n",
       "      <td>97</td>\n",
       "      <td>185</td>\n",
       "      <td>530</td>\n",
       "      <td>688</td>\n",
       "      <td>603</td>\n",
       "      <td>688</td>\n",
       "      <td>3</td>\n",
       "      <td>6</td>\n",
       "      <td>5</td>\n",
       "      <td>4</td>\n",
       "      <td>...</td>\n",
       "      <td>55.36354</td>\n",
       "      <td>41.25013</td>\n",
       "      <td>4.92292</td>\n",
       "      <td>183.83757</td>\n",
       "      <td>324.73343</td>\n",
       "      <td>15.40222</td>\n",
       "      <td>54.79385</td>\n",
       "      <td>57.74679</td>\n",
       "      <td>554.88999</td>\n",
       "      <td>0</td>\n",
       "    </tr>\n",
       "    <tr>\n",
       "      <th>2</th>\n",
       "      <td>135</td>\n",
       "      <td>207</td>\n",
       "      <td>630</td>\n",
       "      <td>685</td>\n",
       "      <td>578</td>\n",
       "      <td>599</td>\n",
       "      <td>8</td>\n",
       "      <td>9</td>\n",
       "      <td>7</td>\n",
       "      <td>3</td>\n",
       "      <td>...</td>\n",
       "      <td>7.68219</td>\n",
       "      <td>22.56606</td>\n",
       "      <td>9.17687</td>\n",
       "      <td>201.46880</td>\n",
       "      <td>535.09909</td>\n",
       "      <td>1.78629</td>\n",
       "      <td>15.74437</td>\n",
       "      <td>57.65181</td>\n",
       "      <td>643.78864</td>\n",
       "      <td>0</td>\n",
       "    </tr>\n",
       "    <tr>\n",
       "      <th>3</th>\n",
       "      <td>265</td>\n",
       "      <td>277</td>\n",
       "      <td>720</td>\n",
       "      <td>728</td>\n",
       "      <td>630</td>\n",
       "      <td>674</td>\n",
       "      <td>15</td>\n",
       "      <td>9</td>\n",
       "      <td>9</td>\n",
       "      <td>7</td>\n",
       "      <td>...</td>\n",
       "      <td>14.27184</td>\n",
       "      <td>8.58904</td>\n",
       "      <td>13.33504</td>\n",
       "      <td>172.97290</td>\n",
       "      <td>273.34529</td>\n",
       "      <td>3.30595</td>\n",
       "      <td>7.34407</td>\n",
       "      <td>52.91831</td>\n",
       "      <td>406.85680</td>\n",
       "      <td>0</td>\n",
       "    </tr>\n",
       "    <tr>\n",
       "      <th>4</th>\n",
       "      <td>134</td>\n",
       "      <td>164</td>\n",
       "      <td>614</td>\n",
       "      <td>618</td>\n",
       "      <td>618</td>\n",
       "      <td>656</td>\n",
       "      <td>2</td>\n",
       "      <td>8</td>\n",
       "      <td>1</td>\n",
       "      <td>6</td>\n",
       "      <td>...</td>\n",
       "      <td>15.24173</td>\n",
       "      <td>34.62034</td>\n",
       "      <td>7.06070</td>\n",
       "      <td>172.17341</td>\n",
       "      <td>321.38851</td>\n",
       "      <td>4.24516</td>\n",
       "      <td>16.98600</td>\n",
       "      <td>53.95255</td>\n",
       "      <td>521.36401</td>\n",
       "      <td>0</td>\n",
       "    </tr>\n",
       "  </tbody>\n",
       "</table>\n",
       "<p>5 rows × 650 columns</p>\n",
       "</div>"
      ],
      "text/plain": [
       "   fac_1  fac_2  fac_3  fac_4  fac_5  fac_6  fac_7  fac_8  fac_9  fac_10  ...  \\\n",
       "0    182    192    575    657    650    702      1      9      5       6  ...   \n",
       "1     97    185    530    688    603    688      3      6      5       4  ...   \n",
       "2    135    207    630    685    578    599      8      9      7       3  ...   \n",
       "3    265    277    720    728    630    674     15      9      9       7  ...   \n",
       "4    134    164    614    618    618    656      2      8      1       6  ...   \n",
       "\n",
       "    zer_39   zer_40   zer_41    zer_42    zer_43   zer_44   zer_45   zer_46  \\\n",
       "0 30.37704  8.13780  4.24529 179.84887 331.68767  8.04001 16.30939 53.62373   \n",
       "1 55.36354 41.25013  4.92292 183.83757 324.73343 15.40222 54.79385 57.74679   \n",
       "2  7.68219 22.56606  9.17687 201.46880 535.09909  1.78629 15.74437 57.65181   \n",
       "3 14.27184  8.58904 13.33504 172.97290 273.34529  3.30595  7.34407 52.91831   \n",
       "4 15.24173 34.62034  7.06070 172.17341 321.38851  4.24516 16.98600 53.95255   \n",
       "\n",
       "     zer_47  class  \n",
       "0 487.26241      0  \n",
       "1 554.88999      0  \n",
       "2 643.78864      0  \n",
       "3 406.85680      0  \n",
       "4 521.36401      0  \n",
       "\n",
       "[5 rows x 650 columns]"
      ]
     },
     "execution_count": 9,
     "metadata": {},
     "output_type": "execute_result"
    }
   ],
   "source": [
    "df_train.head()"
   ]
  },
  {
   "cell_type": "code",
   "execution_count": 10,
   "metadata": {},
   "outputs": [
    {
     "data": {
      "text/html": [
       "<div>\n",
       "<style scoped>\n",
       "    .dataframe tbody tr th:only-of-type {\n",
       "        vertical-align: middle;\n",
       "    }\n",
       "\n",
       "    .dataframe tbody tr th {\n",
       "        vertical-align: top;\n",
       "    }\n",
       "\n",
       "    .dataframe thead th {\n",
       "        text-align: right;\n",
       "    }\n",
       "</style>\n",
       "<table border=\"1\" class=\"dataframe\">\n",
       "  <thead>\n",
       "    <tr style=\"text-align: right;\">\n",
       "      <th></th>\n",
       "      <th>fac_1</th>\n",
       "      <th>fac_2</th>\n",
       "      <th>fac_3</th>\n",
       "      <th>fac_4</th>\n",
       "      <th>fac_5</th>\n",
       "      <th>fac_6</th>\n",
       "      <th>fac_7</th>\n",
       "      <th>fac_8</th>\n",
       "      <th>fac_9</th>\n",
       "      <th>fac_10</th>\n",
       "      <th>...</th>\n",
       "      <th>zer_39</th>\n",
       "      <th>zer_40</th>\n",
       "      <th>zer_41</th>\n",
       "      <th>zer_42</th>\n",
       "      <th>zer_43</th>\n",
       "      <th>zer_44</th>\n",
       "      <th>zer_45</th>\n",
       "      <th>zer_46</th>\n",
       "      <th>zer_47</th>\n",
       "      <th>class</th>\n",
       "    </tr>\n",
       "  </thead>\n",
       "  <tbody>\n",
       "    <tr>\n",
       "      <th>453</th>\n",
       "      <td>269</td>\n",
       "      <td>223</td>\n",
       "      <td>847</td>\n",
       "      <td>701</td>\n",
       "      <td>661</td>\n",
       "      <td>685</td>\n",
       "      <td>21</td>\n",
       "      <td>11</td>\n",
       "      <td>11</td>\n",
       "      <td>15</td>\n",
       "      <td>...</td>\n",
       "      <td>26.87227</td>\n",
       "      <td>84.09126</td>\n",
       "      <td>5.03149</td>\n",
       "      <td>207.56780</td>\n",
       "      <td>320.71647</td>\n",
       "      <td>6.28303</td>\n",
       "      <td>48.47966</td>\n",
       "      <td>61.95319</td>\n",
       "      <td>484.79816</td>\n",
       "      <td>3</td>\n",
       "    </tr>\n",
       "    <tr>\n",
       "      <th>518</th>\n",
       "      <td>269</td>\n",
       "      <td>223</td>\n",
       "      <td>847</td>\n",
       "      <td>701</td>\n",
       "      <td>661</td>\n",
       "      <td>685</td>\n",
       "      <td>21</td>\n",
       "      <td>11</td>\n",
       "      <td>11</td>\n",
       "      <td>15</td>\n",
       "      <td>...</td>\n",
       "      <td>26.87227</td>\n",
       "      <td>84.09126</td>\n",
       "      <td>5.03149</td>\n",
       "      <td>207.56780</td>\n",
       "      <td>320.71647</td>\n",
       "      <td>6.28303</td>\n",
       "      <td>48.47966</td>\n",
       "      <td>61.95319</td>\n",
       "      <td>484.79816</td>\n",
       "      <td>3</td>\n",
       "    </tr>\n",
       "    <tr>\n",
       "      <th>850</th>\n",
       "      <td>243</td>\n",
       "      <td>145</td>\n",
       "      <td>693</td>\n",
       "      <td>686</td>\n",
       "      <td>676</td>\n",
       "      <td>705</td>\n",
       "      <td>11</td>\n",
       "      <td>12</td>\n",
       "      <td>15</td>\n",
       "      <td>10</td>\n",
       "      <td>...</td>\n",
       "      <td>16.24987</td>\n",
       "      <td>48.56092</td>\n",
       "      <td>6.95441</td>\n",
       "      <td>219.34079</td>\n",
       "      <td>391.89752</td>\n",
       "      <td>3.23090</td>\n",
       "      <td>26.04288</td>\n",
       "      <td>66.28172</td>\n",
       "      <td>563.51089</td>\n",
       "      <td>5</td>\n",
       "    </tr>\n",
       "    <tr>\n",
       "      <th>876</th>\n",
       "      <td>243</td>\n",
       "      <td>145</td>\n",
       "      <td>693</td>\n",
       "      <td>686</td>\n",
       "      <td>676</td>\n",
       "      <td>705</td>\n",
       "      <td>11</td>\n",
       "      <td>12</td>\n",
       "      <td>15</td>\n",
       "      <td>10</td>\n",
       "      <td>...</td>\n",
       "      <td>16.24987</td>\n",
       "      <td>48.56092</td>\n",
       "      <td>6.95441</td>\n",
       "      <td>219.34079</td>\n",
       "      <td>391.89752</td>\n",
       "      <td>3.23090</td>\n",
       "      <td>26.04288</td>\n",
       "      <td>66.28172</td>\n",
       "      <td>563.51089</td>\n",
       "      <td>5</td>\n",
       "    </tr>\n",
       "    <tr>\n",
       "      <th>1065</th>\n",
       "      <td>416</td>\n",
       "      <td>424</td>\n",
       "      <td>845</td>\n",
       "      <td>959</td>\n",
       "      <td>687</td>\n",
       "      <td>809</td>\n",
       "      <td>34</td>\n",
       "      <td>27</td>\n",
       "      <td>27</td>\n",
       "      <td>11</td>\n",
       "      <td>...</td>\n",
       "      <td>49.57449</td>\n",
       "      <td>70.40772</td>\n",
       "      <td>12.27030</td>\n",
       "      <td>229.56143</td>\n",
       "      <td>261.43384</td>\n",
       "      <td>12.85473</td>\n",
       "      <td>95.37960</td>\n",
       "      <td>67.03341</td>\n",
       "      <td>381.23656</td>\n",
       "      <td>7</td>\n",
       "    </tr>\n",
       "    <tr>\n",
       "      <th>1145</th>\n",
       "      <td>416</td>\n",
       "      <td>424</td>\n",
       "      <td>845</td>\n",
       "      <td>959</td>\n",
       "      <td>687</td>\n",
       "      <td>809</td>\n",
       "      <td>34</td>\n",
       "      <td>27</td>\n",
       "      <td>27</td>\n",
       "      <td>11</td>\n",
       "      <td>...</td>\n",
       "      <td>49.57449</td>\n",
       "      <td>70.40772</td>\n",
       "      <td>12.27030</td>\n",
       "      <td>229.56143</td>\n",
       "      <td>261.43384</td>\n",
       "      <td>12.85473</td>\n",
       "      <td>95.37960</td>\n",
       "      <td>67.03341</td>\n",
       "      <td>381.23656</td>\n",
       "      <td>7</td>\n",
       "    </tr>\n",
       "  </tbody>\n",
       "</table>\n",
       "<p>6 rows × 650 columns</p>\n",
       "</div>"
      ],
      "text/plain": [
       "      fac_1  fac_2  fac_3  fac_4  fac_5  fac_6  fac_7  fac_8  fac_9  fac_10  \\\n",
       "453     269    223    847    701    661    685     21     11     11      15   \n",
       "518     269    223    847    701    661    685     21     11     11      15   \n",
       "850     243    145    693    686    676    705     11     12     15      10   \n",
       "876     243    145    693    686    676    705     11     12     15      10   \n",
       "1065    416    424    845    959    687    809     34     27     27      11   \n",
       "1145    416    424    845    959    687    809     34     27     27      11   \n",
       "\n",
       "      ...   zer_39   zer_40   zer_41    zer_42    zer_43   zer_44   zer_45  \\\n",
       "453   ... 26.87227 84.09126  5.03149 207.56780 320.71647  6.28303 48.47966   \n",
       "518   ... 26.87227 84.09126  5.03149 207.56780 320.71647  6.28303 48.47966   \n",
       "850   ... 16.24987 48.56092  6.95441 219.34079 391.89752  3.23090 26.04288   \n",
       "876   ... 16.24987 48.56092  6.95441 219.34079 391.89752  3.23090 26.04288   \n",
       "1065  ... 49.57449 70.40772 12.27030 229.56143 261.43384 12.85473 95.37960   \n",
       "1145  ... 49.57449 70.40772 12.27030 229.56143 261.43384 12.85473 95.37960   \n",
       "\n",
       "       zer_46    zer_47  class  \n",
       "453  61.95319 484.79816      3  \n",
       "518  61.95319 484.79816      3  \n",
       "850  66.28172 563.51089      5  \n",
       "876  66.28172 563.51089      5  \n",
       "1065 67.03341 381.23656      7  \n",
       "1145 67.03341 381.23656      7  \n",
       "\n",
       "[6 rows x 650 columns]"
      ]
     },
     "execution_count": 10,
     "metadata": {},
     "output_type": "execute_result"
    }
   ],
   "source": [
    "# Vérification doublons parfaits\n",
    "df_train[df_train.duplicated(keep=False)]"
   ]
  },
  {
   "cell_type": "code",
   "execution_count": 11,
   "metadata": {},
   "outputs": [],
   "source": [
    "## Suppression des doublons parfaits\n",
    "df_train.drop_duplicates(inplace=True)"
   ]
  },
  {
   "cell_type": "code",
   "execution_count": 12,
   "metadata": {},
   "outputs": [
    {
     "data": {
      "text/plain": [
       "(1497, 650)"
      ]
     },
     "execution_count": 12,
     "metadata": {},
     "output_type": "execute_result"
    }
   ],
   "source": [
    "df_train.shape"
   ]
  },
  {
   "cell_type": "markdown",
   "metadata": {
    "slideshow": {
     "slide_type": "slide"
    }
   },
   "source": [
    "### <a id=\"analyse_exploratoire_uni_bi\" style=\"color:black\">ANALYSE UNIVARIÉE ET BIVARIÉE</a>\n",
    "\n",
    "Voir fichier 'acp mfeat' pour l'analyse exploratoire détaillée"
   ]
  },
  {
   "cell_type": "markdown",
   "metadata": {
    "slideshow": {
     "slide_type": "slide"
    }
   },
   "source": [
    "### <a id=\"separation_data\" style=\"color:black\">SÉPARATION DU JEU DE DONNÉES: TRAIN vs VAL</a>"
   ]
  },
  {
   "cell_type": "code",
   "execution_count": 13,
   "metadata": {},
   "outputs": [],
   "source": [
    "X = df_train.iloc[:, :-1].values\n",
    "y = df_train.iloc[:, -1].values"
   ]
  },
  {
   "cell_type": "code",
   "execution_count": 14,
   "metadata": {},
   "outputs": [],
   "source": [
    "X_train, X_val, y_train, y_val = train_test_split(X, y, test_size = 0.3333, stratify=y)"
   ]
  },
  {
   "cell_type": "code",
   "execution_count": 15,
   "metadata": {},
   "outputs": [
    {
     "data": {
      "text/plain": [
       "(array(['0', '1', '2', '3', '4', '5', '6', '7', '8', '9'], dtype=object),\n",
       " array([50, 50, 50, 50, 50, 49, 50, 50, 50, 50], dtype=int64))"
      ]
     },
     "execution_count": 15,
     "metadata": {},
     "output_type": "execute_result"
    }
   ],
   "source": [
    "np.unique(y_val, return_counts=True)"
   ]
  },
  {
   "cell_type": "markdown",
   "metadata": {},
   "source": [
    "## <a id=\"rf\" style=\"color:black\">Random Forest</a>"
   ]
  },
  {
   "cell_type": "code",
   "execution_count": 18,
   "metadata": {},
   "outputs": [
    {
     "name": "stdout",
     "output_type": "stream",
     "text": [
      "0.01603206412825653\n"
     ]
    }
   ],
   "source": [
    "# 1. Données non modifiées\n",
    "\n",
    "rf1 = RandomForestClassifier(n_estimators = 100, random_state=2020)\n",
    "rf1.fit(X_train, y_train)\n",
    "\n",
    "rf_pred1 = rf1.predict(X_val)\n",
    "\n",
    "rf_err1 = 1.0 - metrics.accuracy_score(y_val,rf_pred1)\n",
    "\n",
    "print('Accuracy:', metrics.accuracy_score(y_val,rf_pred1))\n",
    "print('Error:', rf_err1)"
   ]
  },
  {
   "cell_type": "code",
   "execution_count": 19,
   "metadata": {},
   "outputs": [
    {
     "data": {
      "image/png": "[encoded data removed]",
      "text/plain": [
       "<Figure size 900x900 with 2 Axes>"
      ]
     },
     "metadata": {},
     "output_type": "display_data"
    }
   ],
   "source": [
    "# Matrice de confusion\n",
    "_, ax = plt.subplots(figsize=(9, 9))\n",
    "\n",
    "mat_sc = metrics.plot_confusion_matrix(rf1, X_val, y_val, cmap=\"YlGnBu\", ax=ax)\n",
    "plt.title(\"Matrice de confusion - Random Forest avec 100 arbres (1)\", y=1.05)\n",
    "plt.show()"
   ]
  },
  {
   "cell_type": "code",
   "execution_count": 20,
   "metadata": {},
   "outputs": [
    {
     "name": "stdout",
     "output_type": "stream",
     "text": [
      "\n",
      "======================================================\n",
      "\n",
      "{'max_depth': 80, 'n_estimators': 500}\n",
      "RandomForestClassifier(max_depth=80, n_estimators=500, random_state=2020)\n"
     ]
    }
   ],
   "source": [
    "# 2. Données non modifiées + tuning\n",
    "\n",
    "rf2 = RandomForestClassifier(random_state=2020)\n",
    "\n",
    "rf_params_grid = {\"max_depth\": [80, 90, 100, 110], 'n_estimators': (100, 200, 300, 400, 500)}\n",
    "grid_rf1 = GridSearchCV(rf2, param_grid=rf_params_grid, scoring=\"accuracy\", refit = True, verbose=2) \n",
    "\n",
    "grid_rf1.fit(X_train, y_train) \n",
    "\n",
    "print(\"\\n======================================================\\n\")\n",
    "\n",
    "print(grid_rf1.best_params_) \n",
    "print(grid_rf1.best_estimator_) \n"
   ]
  },
  {
   "cell_type": "code",
   "execution_count": 21,
   "metadata": {},
   "outputs": [
    {
     "name": "stdout",
     "output_type": "stream",
     "text": [
      "0.01002004008016033\n"
     ]
    }
   ],
   "source": [
    "rf_pred2 = grid_rf1.predict(X_val)\n",
    "\n",
    "rf_err2 = 1.0 - metrics.accuracy_score(y_val,rf_pred2)\n",
    "\n",
    "print('Accuracy:', metrics.accuracy_score(y_val,rf_pred2))\n",
    "print('Error:', rf_err2)"
   ]
  },
  {
   "cell_type": "code",
   "execution_count": 23,
   "metadata": {},
   "outputs": [
    {
     "data": {
      "image/png": "[encoded data removed]",
      "text/plain": [
       "<Figure size 900x900 with 2 Axes>"
      ]
     },
     "metadata": {},
     "output_type": "display_data"
    }
   ],
   "source": [
    "# Matrice de confusion\n",
    "_, ax = plt.subplots(figsize=(9, 9))\n",
    "\n",
    "mat_sc = metrics.plot_confusion_matrix(grid_rf1, X_val, y_val, cmap=\"YlGnBu\", ax=ax)\n",
    "plt.title(\"Matrice de confusion - Random Forest tuned (2)\", y=1.05)\n",
    "plt.show()"
   ]
  },
  {
   "cell_type": "markdown",
   "metadata": {},
   "source": [
    "### Entrainement et prédiction sur données centrée-réduites"
   ]
  },
  {
   "cell_type": "code",
   "execution_count": 24,
   "metadata": {},
   "outputs": [],
   "source": [
    "# Standardisation\n",
    "sc = StandardScaler()\n",
    "X_sc = sc.fit_transform(X)\n",
    "\n",
    "X_train_sc, X_val_sc, y_train_sc, y_val_sc = train_test_split(X_sc, y, test_size = 0.3333, stratify=y)"
   ]
  },
  {
   "cell_type": "code",
   "execution_count": 25,
   "metadata": {},
   "outputs": [
    {
     "name": "stdout",
     "output_type": "stream",
     "text": [
      "\n",
      "======================================================\n",
      "\n",
      "{'max_depth': 80, 'n_estimators': 200}\n",
      "RandomForestClassifier(max_depth=80, n_estimators=200, random_state=2020)\n"
     ]
    }
   ],
   "source": [
    "# 3. Données standardisées + tuning\n",
    "\n",
    "rf3 = RandomForestClassifier(random_state=2020)\n",
    "\n",
    "rf_params_grid = {\"max_depth\": [80, 90, 100, 110], 'n_estimators': (100, 200, 300, 400, 500)}\n",
    "grid_rf2 = GridSearchCV(rf3, param_grid=rf_params_grid, scoring=\"accuracy\", refit = True, verbose=2)\n",
    "\n",
    "grid_rf2.fit(X_train_sc, y_train_sc) \n",
    "\n",
    "print(\"\\n======================================================\\n\")\n",
    "\n",
    "print(grid_rf2.best_params_)\n",
    "print(grid_rf2.best_estimator_)\n"
   ]
  },
  {
   "cell_type": "code",
   "execution_count": 26,
   "metadata": {},
   "outputs": [
    {
     "name": "stdout",
     "output_type": "stream",
     "text": [
      "0.008016032064128265\n"
     ]
    }
   ],
   "source": [
    "rf_pred3 = grid_rf2.predict(X_val_sc)\n",
    "\n",
    "rf_err3 = 1.0 - metrics.accuracy_score(y_val_sc,rf_pred3)\n",
    "\n",
    "print('Accuracy:', metrics.accuracy_score(y_val_sc,rf_pred3))\n",
    "print('Error:', rf_err3)\n"
   ]
  },
  {
   "cell_type": "code",
   "execution_count": 28,
   "metadata": {},
   "outputs": [
    {
     "data": {
      "image/png": "[encoded data removed]",
      "text/plain": [
       "<Figure size 900x900 with 2 Axes>"
      ]
     },
     "metadata": {},
     "output_type": "display_data"
    }
   ],
   "source": [
    "# Matrice de confusion\n",
    "_, ax = plt.subplots(figsize=(9, 9))\n",
    "\n",
    "rf_mat_sc = metrics.plot_confusion_matrix(grid_rf2, X_val_sc, y_val_sc, cmap=\"YlGnBu\", ax=ax)\n",
    "plt.title(\"Matrice de confusion - Random Forest, données standardisées tuned (3)\", y=1.05)\n",
    "plt.show()"
   ]
  },
  {
   "cell_type": "code",
   "execution_count": 29,
   "metadata": {
    "scrolled": true
   },
   "outputs": [
    {
     "data": {
      "text/html": [
       "<div>\n",
       "<style scoped>\n",
       "    .dataframe tbody tr th:only-of-type {\n",
       "        vertical-align: middle;\n",
       "    }\n",
       "\n",
       "    .dataframe tbody tr th {\n",
       "        vertical-align: top;\n",
       "    }\n",
       "\n",
       "    .dataframe thead th {\n",
       "        text-align: right;\n",
       "    }\n",
       "</style>\n",
       "<table border=\"1\" class=\"dataframe\">\n",
       "  <thead>\n",
       "    <tr style=\"text-align: right;\">\n",
       "      <th></th>\n",
       "      <th>variable</th>\n",
       "      <th>importance</th>\n",
       "    </tr>\n",
       "  </thead>\n",
       "  <tbody>\n",
       "    <tr>\n",
       "      <th>356</th>\n",
       "      <td>mor1</td>\n",
       "      <td>0.02723</td>\n",
       "    </tr>\n",
       "    <tr>\n",
       "      <th>361</th>\n",
       "      <td>mor6</td>\n",
       "      <td>0.02496</td>\n",
       "    </tr>\n",
       "    <tr>\n",
       "      <th>357</th>\n",
       "      <td>mor2</td>\n",
       "      <td>0.02473</td>\n",
       "    </tr>\n",
       "    <tr>\n",
       "      <th>359</th>\n",
       "      <td>mor4</td>\n",
       "      <td>0.01805</td>\n",
       "    </tr>\n",
       "    <tr>\n",
       "      <th>360</th>\n",
       "      <td>mor5</td>\n",
       "      <td>0.01497</td>\n",
       "    </tr>\n",
       "    <tr>\n",
       "      <th>...</th>\n",
       "      <td>...</td>\n",
       "      <td>...</td>\n",
       "    </tr>\n",
       "    <tr>\n",
       "      <th>397</th>\n",
       "      <td>pix_36</td>\n",
       "      <td>0.00005</td>\n",
       "    </tr>\n",
       "    <tr>\n",
       "      <th>574</th>\n",
       "      <td>pix_213</td>\n",
       "      <td>0.00005</td>\n",
       "    </tr>\n",
       "    <tr>\n",
       "      <th>372</th>\n",
       "      <td>pix_11</td>\n",
       "      <td>0.00004</td>\n",
       "    </tr>\n",
       "    <tr>\n",
       "      <th>557</th>\n",
       "      <td>pix_196</td>\n",
       "      <td>0.00002</td>\n",
       "    </tr>\n",
       "    <tr>\n",
       "      <th>512</th>\n",
       "      <td>pix_151</td>\n",
       "      <td>0.00001</td>\n",
       "    </tr>\n",
       "  </tbody>\n",
       "</table>\n",
       "<p>649 rows × 2 columns</p>\n",
       "</div>"
      ],
      "text/plain": [
       "    variable  importance\n",
       "356     mor1     0.02723\n",
       "361     mor6     0.02496\n",
       "357     mor2     0.02473\n",
       "359     mor4     0.01805\n",
       "360     mor5     0.01497\n",
       "..       ...         ...\n",
       "397   pix_36     0.00005\n",
       "574  pix_213     0.00005\n",
       "372   pix_11     0.00004\n",
       "557  pix_196     0.00002\n",
       "512  pix_151     0.00001\n",
       "\n",
       "[649 rows x 2 columns]"
      ]
     },
     "execution_count": 29,
     "metadata": {},
     "output_type": "execute_result"
    }
   ],
   "source": [
    "# Importance des variables\n",
    "\n",
    "# relancer l'algorithme avec les meilleurs paramètres\n",
    "rf3_best = RandomForestClassifier(max_depth=80, n_estimators=200, random_state=2020).fit(X_train_sc, y_train_sc)\n",
    "\n",
    "ls_vars = df_train.iloc[:,:-1].columns.to_numpy()\n",
    "\n",
    "importance = rf3_best.feature_importances_\n",
    "\n",
    "rf_importance_df = pd.DataFrame({\"variable\":ls_vars, \"importance\":importance})\n",
    "rf_importance_df.sort_values(\"importance\", ascending=False)\n"
   ]
  },
  {
   "cell_type": "code",
   "execution_count": 30,
   "metadata": {
    "scrolled": false
   },
   "outputs": [
    {
     "data": {
      "image/png": "[encoded data removed]",
      "text/plain": [
       "<Figure size 700x600 with 1 Axes>"
      ]
     },
     "metadata": {},
     "output_type": "display_data"
    }
   ],
   "source": [
    "rf_importance_df[rf_importance_df.importance >= 0.01].sort_values(\"importance\", ascending=True).plot.barh(\"variable\",\"importance\", figsize=(7,6))\n",
    "plt.show()"
   ]
  },
  {
   "cell_type": "code",
   "execution_count": 31,
   "metadata": {
    "scrolled": false
   },
   "outputs": [
    {
     "data": {
      "image/png": "[encoded data removed]",
      "text/plain": [
       "<Figure size 1200x900 with 1 Axes>"
      ]
     },
     "metadata": {},
     "output_type": "display_data"
    }
   ],
   "source": [
    "# Importance des variables si >= 0.01\n",
    "\n",
    "idx = np.argsort(importance)\n",
    "\n",
    "masque = importance[idx] >= 0.01\n",
    "\n",
    "plt.figure(figsize=(12,9))\n",
    "plt.title(\"Importance des variables\")\n",
    "plt.barh(ls_vars[idx][masque], importance[idx][masque], color='b', align='center')\n",
    "plt.xlabel(\"Importance relative\")\n",
    "plt.show()"
   ]
  },
  {
   "cell_type": "markdown",
   "metadata": {},
   "source": [
    "## <a id=\"requirements\" style=\"color:black\">REQUIREMENTS.txt</a>"
   ]
  },
  {
   "cell_type": "markdown",
   "metadata": {},
   "source": [
    "<span style=\"color:orange\">Ce notebook a été créé avec python 3.8</span>\n",
    "\n",
    "Requirements.txt  \n",
    "\n",
    "```\n",
    "absl-py==2.1.0\n",
    "anyio==4.0.0\n",
    "argon2-cffi==23.1.0\n",
    "argon2-cffi-bindings==21.2.0       \n",
    "arrow==1.2.3\n",
    "asttokens==2.4.0\n",
    "astunparse==1.6.3\n",
    "async-lru==2.0.4\n",
    "attrs==23.1.0\n",
    "Babel==2.12.1\n",
    "backcall==0.2.0\n",
    "beautifulsoup4==4.12.2\n",
    "bleach==6.0.0\n",
    "cachetools==4.2.4\n",
    "certifi==2023.7.22\n",
    "cffi==1.15.1\n",
    "charset-normalizer==2.0.12\n",
    "colorama==0.4.6\n",
    "comm==0.1.4\n",
    "cycler==0.11.0\n",
    "debugpy==1.8.0\n",
    "decorator==5.1.1\n",
    "defusedxml==0.7.1\n",
    "exceptiongroup==1.1.3\n",
    "executing==1.2.0\n",
    "fastjsonschema==2.18.0\n",
    "fonttools==4.42.1\n",
    "fqdn==1.5.1\n",
    "gast==0.3.3\n",
    "google-auth==1.35.0\n",
    "google-auth-oauthlib==0.4.6        \n",
    "google-pasta==0.2.0\n",
    "grpcio==1.66.2\n",
    "h5py==2.10.0\n",
    "htmlmin==0.1.12\n",
    "idna==3.4\n",
    "ImageHash==4.3.1\n",
    "importlib-metadata==8.5.0\n",
    "importlib-resources==6.4.5\n",
    "ipykernel==6.25.2\n",
    "ipython==8.12.0\n",
    "ipython-genutils==0.2.0\n",
    "ipywidgets==8.1.1\n",
    "isoduration==20.11.0\n",
    "jedi==0.19.0\n",
    "Jinja2==3.1.2\n",
    "joblib==1.1.1\n",
    "json5==0.9.14\n",
    "jsonpointer==2.4\n",
    "jsonschema==4.19.0\n",
    "jsonschema-specifications==2023.7.1\n",
    "jupyter==1.0.0\n",
    "jupyter-client==8.3.1\n",
    "jupyter-console==6.6.3\n",
    "jupyter-core==5.3.1\n",
    "jupyter-events==0.7.0\n",
    "jupyter-lsp==2.2.0\n",
    "jupyter-server==2.7.3\n",
    "jupyter-server-terminals==0.4.4\n",
    "jupyterlab==4.0.6\n",
    "jupyterlab-pygments==0.2.2\n",
    "jupyterlab-server==2.25.0\n",
    "jupyterlab-widgets==3.0.9\n",
    "Keras==2.4.3\n",
    "Keras-Preprocessing==1.1.2\n",
    "kiwisolver==1.4.5\n",
    "Markdown==3.7\n",
    "MarkupSafe==2.1.3\n",
    "matplotlib==3.5.3\n",
    "matplotlib-inline==0.1.6\n",
    "missingno==0.5.2\n",
    "mistune==3.0.1\n",
    "multimethod==1.8\n",
    "nbclient==0.8.0\n",
    "nbconvert==7.8.0\n",
    "nbformat==5.9.2\n",
    "nest-asyncio==1.5.8\n",
    "networkx==3.1\n",
    "notebook==7.0.3\n",
    "notebook-shim==0.2.3\n",
    "numpy==1.22.0\n",
    "oauthlib==3.2.2\n",
    "opt-einsum==3.4.0\n",
    "overrides==7.4.0\n",
    "packaging==23.1\n",
    "pandas==1.4.0\n",
    "pandas-profiling==3.3.0\n",
    "pandocfilters==1.5.0\n",
    "parso==0.8.3\n",
    "patsy==0.5.3\n",
    "pexpect==4.8.0\n",
    "phik==0.12.3\n",
    "pickleshare==0.7.5\n",
    "Pillow==10.0.1\n",
    "pkgutil-resolve-name==1.3.10\n",
    "platformdirs==3.10.0\n",
    "prometheus-client==0.17.1\n",
    "prompt-toolkit==3.0.39\n",
    "protobuf==3.20.3\n",
    "psutil==5.9.5\n",
    "ptyprocess==0.7.0\n",
    "pure-eval==0.2.2\n",
    "pyasn1==0.6.1\n",
    "pyasn1-modules==0.4.1\n",
    "pycparser==2.21\n",
    "pydantic==1.9.2\n",
    "Pygments==2.16.1\n",
    "pyparsing==3.1.1\n",
    "python-dateutil==2.8.2\n",
    "python-json-logger==2.0.7\n",
    "pytz==2023.3.post1\n",
    "PyWavelets==1.4.1\n",
    "pywin32==306\n",
    "pywinpty==2.0.13\n",
    "PyYAML==6.0.1\n",
    "pyzmq==25.1.1\n",
    "qtconsole==5.4.4\n",
    "QtPy==2.4.0\n",
    "referencing==0.30.2\n",
    "requests==2.28.0\n",
    "requests-oauthlib==2.0.0\n",
    "rfc3339-validator==0.1.4\n",
    "rfc3986-validator==0.1.1\n",
    "rpds-py==0.10.3\n",
    "rsa==4.9\n",
    "scikit-learn==0.23.2\n",
    "scipy==1.4.1\n",
    "seaborn==0.11.2\n",
    "Send2Trash==1.8.2\n",
    "six==1.16.0\n",
    "sniffio==1.3.0\n",
    "soupsieve==2.5\n",
    "stack-data==0.6.2\n",
    "statsmodels==0.13.5\n",
    "tangled-up-in-unicode==0.2.0\n",
    "tensorboard==2.2.2\n",
    "tensorboard-plugin-wit==1.8.1\n",
    "tensorflow==2.2.0\n",
    "tensorflow-estimator==2.2.0\n",
    "termcolor==2.4.0\n",
    "terminado==0.17.1\n",
    "threadpoolctl==3.5.0\n",
    "tinycss2==1.2.1\n",
    "tomli==2.0.1\n",
    "tornado==6.3.3\n",
    "tqdm==4.64.1\n",
    "traitlets==5.10.0\n",
    "typing-extensions==4.7.1\n",
    "uri-template==1.3.0\n",
    "urllib3==1.26.16\n",
    "visions==0.7.5\n",
    "wcwidth==0.2.6\n",
    "webcolors==1.13\n",
    "webencodings==0.5.1\n",
    "websocket-client==1.6.3\n",
    "werkzeug==3.0.4\n",
    "widgetsnbextension==4.0.9\n",
    "wrapt==1.16.0\n",
    "xlrd==2.0.1\n",
    "zipp==3.20.2\n",
    "```"
   ]
  }
 ],
 "metadata": {
  "authors": [
   {
    "name": "Nelly Traore"
   }
  ],
  "celltoolbar": "Aucun(e)",
  "kernelspec": {
   "display_name": "env38",
   "language": "python",
   "name": "env38"
  },
  "language_info": {
   "codemirror_mode": {
    "name": "ipython",
    "version": 3
   },
   "file_extension": ".py",
   "mimetype": "text/x-python",
   "name": "python",
   "nbconvert_exporter": "python",
   "pygments_lexer": "ipython3",
   "version": "3.8.7"
  }
 },
 "nbformat": 4,
 "nbformat_minor": 4
}
