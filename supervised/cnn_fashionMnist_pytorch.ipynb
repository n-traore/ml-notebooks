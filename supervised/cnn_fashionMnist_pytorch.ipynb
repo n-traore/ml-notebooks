{
 "cells": [
  {
   "cell_type": "markdown",
   "metadata": {},
   "source": [
    "# Réseaux de neurones à convolution\n",
    "\n",
    "\n",
    "Exemple de réseau de neurones à convolution (CNN) sur les données FashionMNIST, avec pytorch\n",
    " "
   ]
  },
  {
   "cell_type": "markdown",
   "metadata": {},
   "source": [
    "[REQUIREMENTS.txt](#requirements)"
   ]
  },
  {
   "cell_type": "code",
   "execution_count": 17,
   "metadata": {},
   "outputs": [],
   "source": [
    "import torch\n",
    "import torch.nn as nn\n",
    "import torchvision\n",
    "import torchvision.transforms as transforms\n",
    "import numpy as np\n",
    "import matplotlib.pyplot as plt\n",
    "from datetime import datetime"
   ]
  },
  {
   "cell_type": "code",
   "execution_count": 2,
   "metadata": {},
   "outputs": [
    {
     "name": "stderr",
     "output_type": "stream",
     "text": [
      "0.4%"
     ]
    },
    {
     "name": "stdout",
     "output_type": "stream",
     "text": [
      "Downloading http://fashion-mnist.s3-website.eu-central-1.amazonaws.com/train-images-idx3-ubyte.gz\n",
      "Downloading http://fashion-mnist.s3-website.eu-central-1.amazonaws.com/train-images-idx3-ubyte.gz to ../tmp\\FashionMNIST\\raw\\train-images-idx3-ubyte.gz\n"
     ]
    },
    {
     "name": "stderr",
     "output_type": "stream",
     "text": [
      "100.0%\n"
     ]
    },
    {
     "name": "stdout",
     "output_type": "stream",
     "text": [
      "Extracting ../tmp\\FashionMNIST\\raw\\train-images-idx3-ubyte.gz to ../tmp\\FashionMNIST\\raw\n"
     ]
    },
    {
     "name": "stderr",
     "output_type": "stream",
     "text": [
      "100.0%"
     ]
    },
    {
     "name": "stdout",
     "output_type": "stream",
     "text": [
      "\n",
      "Downloading http://fashion-mnist.s3-website.eu-central-1.amazonaws.com/train-labels-idx1-ubyte.gz\n",
      "Downloading http://fashion-mnist.s3-website.eu-central-1.amazonaws.com/train-labels-idx1-ubyte.gz to ../tmp\\FashionMNIST\\raw\\train-labels-idx1-ubyte.gz\n",
      "Extracting ../tmp\\FashionMNIST\\raw\\train-labels-idx1-ubyte.gz to ../tmp\\FashionMNIST\\raw\n",
      "\n",
      "Downloading http://fashion-mnist.s3-website.eu-central-1.amazonaws.com/t10k-images-idx3-ubyte.gz\n"
     ]
    },
    {
     "name": "stderr",
     "output_type": "stream",
     "text": [
      "\n",
      "13.3%"
     ]
    },
    {
     "name": "stdout",
     "output_type": "stream",
     "text": [
      "Downloading http://fashion-mnist.s3-website.eu-central-1.amazonaws.com/t10k-images-idx3-ubyte.gz to ../tmp\\FashionMNIST\\raw\\t10k-images-idx3-ubyte.gz\n"
     ]
    },
    {
     "name": "stderr",
     "output_type": "stream",
     "text": [
      "100.0%\n"
     ]
    },
    {
     "name": "stdout",
     "output_type": "stream",
     "text": [
      "Extracting ../tmp\\FashionMNIST\\raw\\t10k-images-idx3-ubyte.gz to ../tmp\\FashionMNIST\\raw\n",
      "\n",
      "Downloading http://fashion-mnist.s3-website.eu-central-1.amazonaws.com/t10k-labels-idx1-ubyte.gz\n",
      "Downloading http://fashion-mnist.s3-website.eu-central-1.amazonaws.com/t10k-labels-idx1-ubyte.gz to ../tmp\\FashionMNIST\\raw\\t10k-labels-idx1-ubyte.gz\n"
     ]
    },
    {
     "name": "stderr",
     "output_type": "stream",
     "text": [
      "100.0%"
     ]
    },
    {
     "name": "stdout",
     "output_type": "stream",
     "text": [
      "Extracting ../tmp\\FashionMNIST\\raw\\t10k-labels-idx1-ubyte.gz to ../tmp\\FashionMNIST\\raw\n",
      "\n"
     ]
    },
    {
     "name": "stderr",
     "output_type": "stream",
     "text": [
      "\n"
     ]
    }
   ],
   "source": [
    "# --- Torchvision : charger les données\n",
    "\n",
    "train_dataset = torchvision.datasets.FashionMNIST(\n",
    "    root='../tmp',\n",
    "    train=True,\n",
    "    transform=transforms.ToTensor(),\n",
    "    download=True\n",
    ")\n",
    "\n",
    "test_dataset = torchvision.datasets.FashionMNIST(\n",
    "    root='../tmp',\n",
    "    train=False,\n",
    "    transform=transforms.ToTensor(),\n",
    "    download=True\n",
    ")\n"
   ]
  },
  {
   "cell_type": "code",
   "execution_count": 3,
   "metadata": {},
   "outputs": [
    {
     "name": "stdout",
     "output_type": "stream",
     "text": [
      "Shape du jeu dentrainement: torch.Size([60000, 28, 28])\n",
      "Target du jeu dentrainement:  tensor([9, 0, 0,  ..., 3, 0, 5])\n"
     ]
    }
   ],
   "source": [
    "print('Shape du jeu d''entrainement:', train_dataset.data.shape)\n",
    "print('Target du jeu d''entrainement: ', train_dataset.targets)"
   ]
  },
  {
   "cell_type": "code",
   "execution_count": 4,
   "metadata": {},
   "outputs": [
    {
     "name": "stdout",
     "output_type": "stream",
     "text": [
      "Shape du jeu de test: torch.Size([10000, 28, 28])\n",
      "Target du jeu de test:  tensor([9, 2, 1,  ..., 8, 1, 5])\n"
     ]
    }
   ],
   "source": [
    "print('Shape du jeu de test:', test_dataset.data.shape)\n",
    "print('Target du jeu de test: ', test_dataset.targets)"
   ]
  },
  {
   "cell_type": "code",
   "execution_count": 5,
   "metadata": {},
   "outputs": [
    {
     "data": {
      "text/plain": [
       "10"
      ]
     },
     "execution_count": 5,
     "metadata": {},
     "output_type": "execute_result"
    }
   ],
   "source": [
    "# --- Nombre de classes de la target\n",
    "K = len(torch.unique(train_dataset.targets).numpy())\n",
    "K"
   ]
  },
  {
   "cell_type": "code",
   "execution_count": 6,
   "metadata": {},
   "outputs": [],
   "source": [
    "class CNN(nn.Module):\n",
    "    \n",
    "    def __init__(self, K):\n",
    "        '''\n",
    "        Constructor for our custom cnn model\n",
    "        '''\n",
    "        super(CNN,self).__init__()\n",
    "        \n",
    "        self.conv_layers = nn.Sequential(\n",
    "            nn.Conv2d(in_channels=1, out_channels=32, kernel_size=3, stride=2),\n",
    "            nn.ReLU(),\n",
    "            nn.Conv2d(in_channels=32, out_channels=64, kernel_size=3, stride=2),\n",
    "            nn.ReLU(),\n",
    "            nn.Conv2d(in_channels=64, out_channels=128, kernel_size=3, stride=2),\n",
    "            nn.ReLU()\n",
    "        )\n",
    "    \n",
    "        self.dense_layers = nn.Sequential(\n",
    "                nn.Dropout(0.2),\n",
    "                nn.Linear(128 * 2 * 2, 512),\n",
    "                nn.ReLU(),\n",
    "                nn.Dropout(0.2),\n",
    "                nn.Linear(512, K)\n",
    "            )\n",
    "    \n",
    "    def forward(self, X):\n",
    "        '''\n",
    "        Forward pass\n",
    "        '''\n",
    "        out = self.conv_layers(X)\n",
    "        out = out.view(out.size(0), -1)\n",
    "        out = self.dense_layers(out)\n",
    "\n",
    "        return out\n",
    "\n",
    "\n",
    "model = CNN(K)"
   ]
  },
  {
   "cell_type": "code",
   "execution_count": 7,
   "metadata": {},
   "outputs": [
    {
     "name": "stdout",
     "output_type": "stream",
     "text": [
      "cuda:0\n"
     ]
    },
    {
     "data": {
      "text/plain": [
       "CNN(\n",
       "  (conv_layers): Sequential(\n",
       "    (0): Conv2d(1, 32, kernel_size=(3, 3), stride=(2, 2))\n",
       "    (1): ReLU()\n",
       "    (2): Conv2d(32, 64, kernel_size=(3, 3), stride=(2, 2))\n",
       "    (3): ReLU()\n",
       "    (4): Conv2d(64, 128, kernel_size=(3, 3), stride=(2, 2))\n",
       "    (5): ReLU()\n",
       "  )\n",
       "  (dense_layers): Sequential(\n",
       "    (0): Dropout(p=0.2, inplace=False)\n",
       "    (1): Linear(in_features=512, out_features=512, bias=True)\n",
       "    (2): ReLU()\n",
       "    (3): Dropout(p=0.2, inplace=False)\n",
       "    (4): Linear(in_features=512, out_features=10, bias=True)\n",
       "  )\n",
       ")"
      ]
     },
     "execution_count": 7,
     "metadata": {},
     "output_type": "execute_result"
    }
   ],
   "source": [
    "# --- GPU\n",
    "device = torch.device('cuda:0' if torch.cuda.is_available() else 'cpu')\n",
    "print(device)\n",
    "\n",
    "model.to(device)"
   ]
  },
  {
   "cell_type": "code",
   "execution_count": 8,
   "metadata": {},
   "outputs": [],
   "source": [
    "# --- Entraîner le modèle\n",
    "\n",
    "criterion = nn.CrossEntropyLoss()\n",
    "optimizer = torch.optim.Adam(model.parameters())\n",
    "\n",
    "batch_size = 128\n",
    "train_loader = torch.utils.data.DataLoader(\n",
    "    dataset = train_dataset,\n",
    "    batch_size = batch_size,\n",
    "    shuffle = True\n",
    ")\n",
    "\n",
    "test_loader = torch.utils.data.DataLoader(\n",
    "    dataset = test_dataset,\n",
    "    batch_size = batch_size,\n",
    "    shuffle = False\n",
    ")\n",
    "\n",
    "def batch_gd(model, criterion, optimizer, train_loader, test_loader, epochs):\n",
    "    train_losses = np.zeros(epochs)\n",
    "    test_losses = np.zeros(epochs)\n",
    "\n",
    "    for it in range(epochs):\n",
    "        model.train()\n",
    "        t0 = datetime.now()\n",
    "        train_loss = []\n",
    "\n",
    "        for inputs, targets in train_loader:\n",
    "            inputs, targets = inputs.to(device), targets.to(device)\n",
    "\n",
    "            optimizer.zero_grad()\n",
    "\n",
    "            outputs = model(inputs)\n",
    "            loss = criterion(outputs, targets)\n",
    "\n",
    "            loss.backward()\n",
    "            optimizer.step()\n",
    "\n",
    "            train_loss.append(loss.item())\n",
    "        \n",
    "        train_loss = np.mean(train_loss)\n",
    "\n",
    "        model.eval()\n",
    "        test_loss = []\n",
    "        for inputs, targets in test_loader:\n",
    "            inputs, targets = inputs.to(device), targets.to(device)\n",
    "            outputs = model(inputs)\n",
    "            loss = criterion(outputs, targets)\n",
    "            test_loss.append(loss.item())\n",
    "        \n",
    "        test_loss = np.mean(test_loss)\n",
    "\n",
    "        train_losses[it] = train_loss\n",
    "        test_losses[it] = test_loss\n",
    "\n",
    "        dt = datetime.now() - t0\n",
    "        print(f'''Epoch {it+1}/{epochs}\\n-----------------\n",
    "        Train Loss: {train_loss:.4f}\n",
    "        Test Loss: {test_loss:.4f}\n",
    "        Duration: {dt}\n",
    "        ''')\n",
    "    return train_losses, test_losses"
   ]
  },
  {
   "cell_type": "code",
   "execution_count": 9,
   "metadata": {},
   "outputs": [
    {
     "name": "stdout",
     "output_type": "stream",
     "text": [
      "Epoch 1/15\n",
      "-----------------\n",
      "        Train Loss: 0.6493\n",
      "        Test Loss: 0.4825\n",
      "        Duration: 0:00:13.235046\n",
      "        \n",
      "Epoch 2/15\n",
      "-----------------\n",
      "        Train Loss: 0.4338\n",
      "        Test Loss: 0.4023\n",
      "        Duration: 0:00:11.486540\n",
      "        \n",
      "Epoch 3/15\n",
      "-----------------\n",
      "        Train Loss: 0.3763\n",
      "        Test Loss: 0.3747\n",
      "        Duration: 0:00:11.199593\n",
      "        \n",
      "Epoch 4/15\n",
      "-----------------\n",
      "        Train Loss: 0.3377\n",
      "        Test Loss: 0.3395\n",
      "        Duration: 0:00:11.232781\n",
      "        \n",
      "Epoch 5/15\n",
      "-----------------\n",
      "        Train Loss: 0.3114\n",
      "        Test Loss: 0.3150\n",
      "        Duration: 0:00:13.731919\n",
      "        \n",
      "Epoch 6/15\n",
      "-----------------\n",
      "        Train Loss: 0.2880\n",
      "        Test Loss: 0.3066\n",
      "        Duration: 0:00:13.960730\n",
      "        \n",
      "Epoch 7/15\n",
      "-----------------\n",
      "        Train Loss: 0.2691\n",
      "        Test Loss: 0.3023\n",
      "        Duration: 0:00:13.919672\n",
      "        \n",
      "Epoch 8/15\n",
      "-----------------\n",
      "        Train Loss: 0.2539\n",
      "        Test Loss: 0.2861\n",
      "        Duration: 0:00:13.974400\n",
      "        \n",
      "Epoch 9/15\n",
      "-----------------\n",
      "        Train Loss: 0.2410\n",
      "        Test Loss: 0.2821\n",
      "        Duration: 0:00:13.919292\n",
      "        \n",
      "Epoch 10/15\n",
      "-----------------\n",
      "        Train Loss: 0.2255\n",
      "        Test Loss: 0.2882\n",
      "        Duration: 0:00:14.040795\n",
      "        \n",
      "Epoch 11/15\n",
      "-----------------\n",
      "        Train Loss: 0.2149\n",
      "        Test Loss: 0.2786\n",
      "        Duration: 0:00:14.219346\n",
      "        \n",
      "Epoch 12/15\n",
      "-----------------\n",
      "        Train Loss: 0.1997\n",
      "        Test Loss: 0.2847\n",
      "        Duration: 0:00:14.445662\n",
      "        \n",
      "Epoch 13/15\n",
      "-----------------\n",
      "        Train Loss: 0.1911\n",
      "        Test Loss: 0.2861\n",
      "        Duration: 0:00:14.389873\n",
      "        \n",
      "Epoch 14/15\n",
      "-----------------\n",
      "        Train Loss: 0.1786\n",
      "        Test Loss: 0.2775\n",
      "        Duration: 0:00:13.878663\n",
      "        \n",
      "Epoch 15/15\n",
      "-----------------\n",
      "        Train Loss: 0.1696\n",
      "        Test Loss: 0.2753\n",
      "        Duration: 0:00:13.758438\n",
      "        \n"
     ]
    }
   ],
   "source": [
    "# lancer la boucle d'entraînement\n",
    "train_losses, test_losses = batch_gd(model, criterion, optimizer, train_loader, test_loader, epochs=15)"
   ]
  },
  {
   "cell_type": "code",
   "execution_count": 10,
   "metadata": {},
   "outputs": [
    {
     "data": {
      "image/png": "[encoded data removed]",
      "text/plain": [
       "<Figure size 640x480 with 1 Axes>"
      ]
     },
     "metadata": {},
     "output_type": "display_data"
    }
   ],
   "source": [
    "# Loss par itération\n",
    "plt.plot(train_losses, label='Training loss')\n",
    "plt.plot(test_losses, label='Test loss')\n",
    "plt.legend()\n",
    "plt.show()"
   ]
  },
  {
   "cell_type": "code",
   "execution_count": 11,
   "metadata": {},
   "outputs": [
    {
     "name": "stdout",
     "output_type": "stream",
     "text": [
      "Train accuracy: 0.9564, Test accuracy: 0.9034\n"
     ]
    }
   ],
   "source": [
    "# Accuracy\n",
    "\n",
    "model.eval()\n",
    "\n",
    "# train\n",
    "n_correct = 0.\n",
    "n_total = 0.\n",
    "for inputs, targets in train_loader:\n",
    "    inputs, targets = inputs.to(device), targets.to(device)\n",
    "    outputs = model(inputs)\n",
    "    _, predictions = torch.max(outputs, 1)\n",
    "    n_correct += (predictions == targets).sum().item()\n",
    "    n_total += targets.shape[0]\n",
    "\n",
    "train_accuracy = n_correct/n_total\n",
    "\n",
    "# test\n",
    "n_correct = 0.\n",
    "n_total = 0.\n",
    "pred_test = np.array([])\n",
    "for inputs, targets in test_loader:\n",
    "    inputs, targets = inputs.to(device), targets.to(device)\n",
    "    outputs = model(inputs)\n",
    "    _, predictions = torch.max(outputs, 1)\n",
    "    n_correct += (predictions == targets).sum().item()\n",
    "    n_total += targets.shape[0]\n",
    "    pred_test = np.concatenate((pred_test, predictions.cpu().numpy()))\n",
    "\n",
    "test_accuracy = n_correct/n_total\n",
    "\n",
    "print(f'Train accuracy: {train_accuracy:.4f}, Test accuracy: {test_accuracy:.4f}')"
   ]
  },
  {
   "cell_type": "code",
   "execution_count": 12,
   "metadata": {},
   "outputs": [
    {
     "data": {
      "image/png": "[encoded data removed]",
      "text/plain": [
       "<Figure size 640x480 with 2 Axes>"
      ]
     },
     "metadata": {},
     "output_type": "display_data"
    }
   ],
   "source": [
    "# --- Matrice de confusion\n",
    "\n",
    "from sklearn.metrics import confusion_matrix, ConfusionMatrixDisplay\n",
    "\n",
    "x_test = test_dataset.data.numpy()\n",
    "y_test = test_dataset.targets.numpy()\n",
    "\n",
    "cm = confusion_matrix(y_test, pred_test)\n",
    "\n",
    "cm_display = ConfusionMatrixDisplay(\n",
    "    confusion_matrix=cm,\n",
    "    display_labels=torch.unique(test_dataset.targets).numpy()\n",
    ")\n",
    "\n",
    "cm_display.plot()\n",
    "plt.show()"
   ]
  },
  {
   "cell_type": "code",
   "execution_count": 13,
   "metadata": {},
   "outputs": [],
   "source": [
    "true_labels = 'T-shirt/top,Trouser,Pullover,Dress,Coat,Sandal,Shirt,Sneaker,Bag,Ankle boot'.split(',')\n"
   ]
  },
  {
   "cell_type": "code",
   "execution_count": 16,
   "metadata": {},
   "outputs": [
    {
     "data": {
      "image/png": "[encoded data removed]",
      "text/plain": [
       "<Figure size 640x480 with 1 Axes>"
      ]
     },
     "metadata": {},
     "output_type": "display_data"
    }
   ],
   "source": [
    "# --- Visualiser quelques cas de mauvaise prédiction\n",
    "\n",
    "missclassified_idx = np.where(pred_test != y_test)[0]\n",
    "i = np.random.choice(missclassified_idx)\n",
    "plt.imshow(x_test[i], cmap='gray')\n",
    "plt.title(f'True label: {true_labels[y_test[i]]} -- Predicted: {true_labels[int(pred_test[i])]}')\n",
    "plt.show()"
   ]
  },
  {
   "cell_type": "markdown",
   "metadata": {},
   "source": [
    "## <a id=\"requirements\" style=\"color:black\">REQUIREMENTS.txt</a>"
   ]
  },
  {
   "cell_type": "markdown",
   "metadata": {},
   "source": [
    "<span style=\"color:orange\">Ce notebook a été créé avec python 3.10</span>\n",
    "\n",
    "Requirements.txt  \n",
    "\n",
    "```\n",
    "alembic==1.13.2\n",
    "aniso8601==9.0.1\n",
    "anyio==4.4.0\n",
    "argon2-cffi==23.1.0\n",
    "argon2-cffi-bindings==21.2.0\n",
    "arrow==1.3.0\n",
    "asttokens==2.4.1\n",
    "async-lru==2.0.4\n",
    "attrs==23.2.0\n",
    "Babel==2.15.0\n",
    "bcrypt==4.1.3\n",
    "beautifulsoup4==4.12.3      \n",
    "bleach==6.1.0\n",
    "blinker==1.8.2\n",
    "boto3==1.35.35\n",
    "botocore==1.35.40\n",
    "cachetools==5.4.0\n",
    "certifi==2024.6.2\n",
    "cffi==1.16.0\n",
    "charset-normalizer==3.3.2   \n",
    "click==8.1.7\n",
    "cloudpickle==3.0.0\n",
    "colorama==0.4.6\n",
    "comm==0.2.2\n",
    "contourpy==1.2.1\n",
    "cryptography==42.0.8        \n",
    "cycler==0.12.1\n",
    "databricks-sdk==0.31.1      \n",
    "debugpy==1.8.1\n",
    "decorator==5.1.1\n",
    "defusedxml==0.7.1\n",
    "Deprecated==1.2.14\n",
    "docker==7.1.0\n",
    "entrypoints==0.4\n",
    "exceptiongroup==1.2.1\n",
    "executing==2.0.1\n",
    "fastjsonschema==2.19.1\n",
    "filelock==3.13.1\n",
    "Flask==3.0.3\n",
    "fonttools==4.53.0\n",
    "fqdn==1.5.1\n",
    "fsspec==2024.2.0\n",
    "gitdb==4.0.11\n",
    "GitPython==3.1.43\n",
    "google-auth==2.34.0\n",
    "graphene==3.3\n",
    "graphql-core==3.2.3\n",
    "graphql-relay==3.2.0\n",
    "greenlet==3.0.3\n",
    "h11==0.14.0\n",
    "httpcore==1.0.5\n",
    "httpx==0.27.0\n",
    "idna==3.7\n",
    "imageio==2.35.1\n",
    "importlib_metadata==7.1.0\n",
    "intel-openmp==2021.4.0\n",
    "ipykernel==6.29.4\n",
    "ipython==8.25.0\n",
    "ipywidgets==8.1.3\n",
    "isoduration==20.11.0\n",
    "itsdangerous==2.2.0\n",
    "jedi==0.19.1\n",
    "Jinja2==3.1.3\n",
    "jmespath==1.0.1\n",
    "joblib==1.4.2\n",
    "json5==0.9.25\n",
    "jsonpointer==3.0.0\n",
    "jsonschema==4.22.0\n",
    "jsonschema-specifications==2023.12.1\n",
    "jupyter==1.0.0\n",
    "jupyter-console==6.6.3\n",
    "jupyter-events==0.10.0\n",
    "jupyter-lsp==2.2.5\n",
    "jupyter_client==8.6.2\n",
    "jupyter_core==5.7.2\n",
    "jupyter_server==2.14.1\n",
    "jupyter_server_terminals==0.5.3\n",
    "jupyterlab==4.2.2\n",
    "jupyterlab_pygments==0.3.0\n",
    "jupyterlab_server==2.27.2\n",
    "jupyterlab_widgets==3.0.11\n",
    "kiwisolver==1.4.5\n",
    "lazy_loader==0.4\n",
    "Mako==1.3.5\n",
    "Markdown==3.6\n",
    "MarkupSafe==2.1.5\n",
    "matplotlib==3.9.0\n",
    "matplotlib-inline==0.1.7\n",
    "mistune==3.0.2\n",
    "mkl==2021.4.0\n",
    "mlflow==2.15.1\n",
    "mlflow-skinny==2.15.1\n",
    "mpmath==1.3.0\n",
    "nbclient==0.10.0\n",
    "nbconvert==7.16.4\n",
    "nbformat==5.10.4\n",
    "nest-asyncio==1.6.0\n",
    "networkx==3.2.1\n",
    "notebook==7.2.1\n",
    "notebook_shim==0.2.4\n",
    "numpy==1.26.3\n",
    "opentelemetry-api==1.25.0\n",
    "opentelemetry-sdk==1.25.0\n",
    "opentelemetry-semantic-conventions==0.46b0\n",
    "overrides==7.7.0\n",
    "packaging==24.1\n",
    "pandas==2.2.2\n",
    "pandocfilters==1.5.1\n",
    "paramiko==3.4.0\n",
    "parso==0.8.4\n",
    "pillow==10.2.0\n",
    "platformdirs==4.2.2\n",
    "prometheus_client==0.20.0\n",
    "prompt_toolkit==3.0.47\n",
    "protobuf==5.28.2\n",
    "psutil==5.9.8\n",
    "pure-eval==0.2.2\n",
    "pyarrow==15.0.2\n",
    "pyasn1==0.6.0\n",
    "pyasn1_modules==0.4.0\n",
    "pycparser==2.22\n",
    "Pygments==2.18.0\n",
    "PyNaCl==1.5.0\n",
    "pyparsing==3.1.2\n",
    "pysftp==0.2.8\n",
    "python-dateutil==2.9.0.post0\n",
    "python-json-logger==2.0.7\n",
    "pytz==2024.1\n",
    "pywin32==306\n",
    "pywinpty==2.0.13\n",
    "PyYAML==6.0.1\n",
    "pyzmq==26.0.3\n",
    "qtconsole==5.5.2\n",
    "QtPy==2.4.1\n",
    "querystring-parser==1.2.4\n",
    "referencing==0.35.1\n",
    "requests==2.32.3\n",
    "rfc3339-validator==0.1.4\n",
    "rfc3986-validator==0.1.1\n",
    "rpds-py==0.18.1\n",
    "rsa==4.9\n",
    "s3transfer==0.10.3\n",
    "scikit-image==0.24.0\n",
    "scikit-learn==1.5.1\n",
    "scipy==1.14.0\n",
    "Send2Trash==1.8.3\n",
    "six==1.16.0\n",
    "smmap==5.0.1\n",
    "sniffio==1.3.1\n",
    "soupsieve==2.5\n",
    "SQLAlchemy==2.0.31\n",
    "sqlparse==0.5.1\n",
    "stack-data==0.6.3\n",
    "sympy==1.12\n",
    "tbb==2021.11.0\n",
    "terminado==0.18.1\n",
    "threadpoolctl==3.5.0\n",
    "tifffile==2024.9.20\n",
    "tinycss2==1.3.0\n",
    "tomli==2.0.1\n",
    "torch==2.3.1+cu121\n",
    "torchaudio==2.3.1+cu121\n",
    "torchvision==0.18.1+cu121\n",
    "tornado==6.4.1\n",
    "traitlets==5.14.3\n",
    "types-python-dateutil==2.9.0.20240316\n",
    "typing_extensions==4.9.0\n",
    "tzdata==2024.1\n",
    "uri-template==1.3.0\n",
    "urllib3==2.2.1\n",
    "waitress==3.0.0\n",
    "wcwidth==0.2.13\n",
    "webcolors==24.6.0\n",
    "webencodings==0.5.1\n",
    "websocket-client==1.8.0\n",
    "Werkzeug==3.0.3\n",
    "widgetsnbextension==4.0.11\n",
    "wrapt==1.16.0\n",
    "zipp==3.19.2\n",
    "```"
   ]
  }
 ],
 "metadata": {
  "authors": [
   {
    "name": "Nelly Traore"
   }
  ],
  "kernelspec": {
   "display_name": "torch-env310",
   "language": "python",
   "name": "torch-env310"
  },
  "language_info": {
   "codemirror_mode": {
    "name": "ipython",
    "version": 3
   },
   "file_extension": ".py",
   "mimetype": "text/x-python",
   "name": "python",
   "nbconvert_exporter": "python",
   "pygments_lexer": "ipython3",
   "version": "3.10.11"
  }
 },
 "nbformat": 4,
 "nbformat_minor": 2
}
