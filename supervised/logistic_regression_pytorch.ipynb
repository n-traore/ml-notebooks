{
 "cells": [
  {
   "cell_type": "markdown",
   "metadata": {},
   "source": [
    "# Régression Logistique\n",
    "\n",
    "\n",
    "Exemple de régression logistique avec pytorch"
   ]
  },
  {
   "cell_type": "markdown",
   "metadata": {},
   "source": [
    "[REQUIREMENTS.txt](#requirements)"
   ]
  },
  {
   "cell_type": "code",
   "execution_count": 1,
   "metadata": {},
   "outputs": [],
   "source": [
    "import torch\n",
    "import torch.nn as nn\n",
    "import numpy as np\n",
    "import matplotlib.pyplot as plt"
   ]
  },
  {
   "cell_type": "code",
   "execution_count": 2,
   "metadata": {},
   "outputs": [],
   "source": [
    "# --- Charger les données\n",
    "from sklearn.datasets import load_breast_cancer\n",
    "\n",
    "data = load_breast_cancer()\n",
    "X, y = data.data, data.target\n"
   ]
  },
  {
   "cell_type": "code",
   "execution_count": 3,
   "metadata": {},
   "outputs": [
    {
     "data": {
      "text/plain": [
       "array([[1.        , 0.9892786 , 0.98703483, ..., 0.97919942, 0.98785229,\n",
       "        0.97683484],\n",
       "       [0.9892786 , 1.        , 0.999713  , ..., 0.99774113, 0.99972889,\n",
       "        0.98469916],\n",
       "       [0.98703483, 0.999713  , 1.        , ..., 0.99878867, 0.99988251,\n",
       "        0.98591229],\n",
       "       ...,\n",
       "       [0.97919942, 0.99774113, 0.99878867, ..., 1.        , 0.99875905,\n",
       "        0.98800384],\n",
       "       [0.98785229, 0.99972889, 0.99988251, ..., 0.99875905, 1.        ,\n",
       "        0.98765632],\n",
       "       [0.97683484, 0.98469916, 0.98591229, ..., 0.98800384, 0.98765632,\n",
       "        1.        ]])"
      ]
     },
     "execution_count": 3,
     "metadata": {},
     "output_type": "execute_result"
    }
   ],
   "source": [
    "# --- Corrélations\n",
    "np.corrcoef(X)"
   ]
  },
  {
   "cell_type": "code",
   "execution_count": 4,
   "metadata": {},
   "outputs": [
    {
     "data": {
      "image/png": "[encoded data removed]",
      "text/plain": [
       "<Figure size 640x480 with 1 Axes>"
      ]
     },
     "metadata": {},
     "output_type": "display_data"
    }
   ],
   "source": [
    "# --- Distribution de la target\n",
    "a, b = np.unique(y, return_counts=True)\n",
    "plt.bar(a.astype(str),b)\n",
    "plt.show()"
   ]
  },
  {
   "cell_type": "code",
   "execution_count": 5,
   "metadata": {},
   "outputs": [],
   "source": [
    "from sklearn.model_selection import train_test_split\n",
    "from sklearn.preprocessing import StandardScaler\n",
    "\n",
    "X_train, X_test, y_train, y_test = train_test_split(X, y, test_size=0.33)\n",
    "\n",
    "# Standardisation\n",
    "scaler = StandardScaler()\n",
    "X_train = scaler.fit_transform(X_train)\n",
    "X_test = scaler.transform(X_test)\n",
    "\n",
    "N = X_train.shape[0]\n",
    "N_test = X_test.shape[0]\n",
    "\n",
    "p = X_train.shape[1]"
   ]
  },
  {
   "cell_type": "code",
   "execution_count": 6,
   "metadata": {},
   "outputs": [],
   "source": [
    "model = nn.Sequential(\n",
    "    nn.Linear(p, 1),\n",
    "    nn.Sigmoid()\n",
    ")\n"
   ]
  },
  {
   "cell_type": "code",
   "execution_count": 7,
   "metadata": {},
   "outputs": [],
   "source": [
    "# --- Entraîner le modèle\n",
    "\n",
    "criterion = nn.BCELoss()\n",
    "optimizer = torch.optim.Adam(model.parameters())\n",
    "\n",
    "y_train = y_train.reshape(N, 1)\n",
    "y_test = y_test.reshape(N_test, 1)\n",
    "\n",
    "inputs = torch.from_numpy(X_train.astype(np.float32))\n",
    "targets = torch.from_numpy(y_train.astype(np.float32))\n",
    "inputs_test = torch.from_numpy(X_test.astype(np.float32))\n",
    "targets_test = torch.from_numpy(y_test.astype(np.float32))"
   ]
  },
  {
   "cell_type": "code",
   "execution_count": 8,
   "metadata": {},
   "outputs": [
    {
     "name": "stdout",
     "output_type": "stream",
     "text": [
      "Epoch 50/500, \n",
      "              Train Loss|accuracy: 0.3241 | 0.9528,\n",
      "              Test Loss|accuracy: 0.3155 | 0.9628\n",
      "Epoch 100/500, \n",
      "              Train Loss|accuracy: 0.2483 | 0.9685,\n",
      "              Test Loss|accuracy: 0.2416 | 0.9681\n",
      "Epoch 150/500, \n",
      "              Train Loss|accuracy: 0.2058 | 0.9711,\n",
      "              Test Loss|accuracy: 0.2004 | 0.9840\n",
      "Epoch 200/500, \n",
      "              Train Loss|accuracy: 0.1784 | 0.9764,\n",
      "              Test Loss|accuracy: 0.1737 | 0.9894\n",
      "Epoch 250/500, \n",
      "              Train Loss|accuracy: 0.1592 | 0.9790,\n",
      "              Test Loss|accuracy: 0.1549 | 0.9894\n",
      "Epoch 300/500, \n",
      "              Train Loss|accuracy: 0.1450 | 0.9816,\n",
      "              Test Loss|accuracy: 0.1409 | 0.9894\n",
      "Epoch 350/500, \n",
      "              Train Loss|accuracy: 0.1341 | 0.9816,\n",
      "              Test Loss|accuracy: 0.1301 | 0.9894\n",
      "Epoch 400/500, \n",
      "              Train Loss|accuracy: 0.1255 | 0.9816,\n",
      "              Test Loss|accuracy: 0.1215 | 0.9894\n",
      "Epoch 450/500, \n",
      "              Train Loss|accuracy: 0.1184 | 0.9816,\n",
      "              Test Loss|accuracy: 0.1144 | 0.9894\n",
      "Epoch 500/500, \n",
      "              Train Loss|accuracy: 0.1125 | 0.9816,\n",
      "              Test Loss|accuracy: 0.1086 | 0.9894\n"
     ]
    }
   ],
   "source": [
    "# lancer la boucle d'entraînement\n",
    "\n",
    "n_epochs = 500\n",
    "train_losses = np.zeros(n_epochs)\n",
    "test_losses = np.zeros(n_epochs)\n",
    "train_accuracy = np.zeros(n_epochs)\n",
    "test_accuracy = np.zeros(n_epochs)\n",
    "\n",
    "\n",
    "for it in range(n_epochs):\n",
    "    optimizer.zero_grad()\n",
    "\n",
    "    outputs = model(inputs)\n",
    "    loss = criterion(outputs, targets)\n",
    "    acc = np.mean(y_train == np.round(outputs.detach().numpy()))\n",
    "    \n",
    "    loss.backward()\n",
    "    optimizer.step()\n",
    "\n",
    "    outputs_test = model(inputs_test)\n",
    "    loss_test = criterion(outputs_test, targets_test)\n",
    "    acc_test = np.mean(y_test == np.round(outputs_test.detach().numpy()))\n",
    "\n",
    "    train_losses[it] = loss.item()\n",
    "    test_losses[it] = loss_test.item()\n",
    "\n",
    "    train_accuracy[it] = acc\n",
    "    test_accuracy[it] = acc_test\n",
    "\n",
    "    if (it + 1) % 50 == 0:\n",
    "        print(f'''Epoch {it+1}/{n_epochs}, \n",
    "              Train Loss|accuracy: {loss.item():.4f} | {acc:.4f},\n",
    "              Test Loss|accuracy: {loss_test.item():.4f} | {acc_test:.4f}''')\n"
   ]
  },
  {
   "cell_type": "code",
   "execution_count": 9,
   "metadata": {},
   "outputs": [
    {
     "data": {
      "image/png": "[encoded data removed]",
      "text/plain": [
       "<Figure size 640x480 with 1 Axes>"
      ]
     },
     "metadata": {},
     "output_type": "display_data"
    }
   ],
   "source": [
    "# Loss par itération\n",
    "plt.plot(train_losses, label='Training loss')\n",
    "plt.plot(test_losses, label='Test loss')\n",
    "plt.legend()\n",
    "plt.show()"
   ]
  },
  {
   "cell_type": "code",
   "execution_count": 10,
   "metadata": {},
   "outputs": [
    {
     "data": {
      "image/png": "[encoded data removed]",
      "text/plain": [
       "<Figure size 640x480 with 1 Axes>"
      ]
     },
     "metadata": {},
     "output_type": "display_data"
    }
   ],
   "source": [
    "# Accuracy par itération\n",
    "plt.plot(train_accuracy, label='Training accuracy')\n",
    "plt.plot(test_accuracy, label='Test accuracy')\n",
    "plt.legend()\n",
    "plt.show()"
   ]
  },
  {
   "cell_type": "code",
   "execution_count": 11,
   "metadata": {},
   "outputs": [
    {
     "name": "stdout",
     "output_type": "stream",
     "text": [
      "Train accuracy is :  0.9816272965879265\n",
      "Test accuracy is :  0.9893617021276596\n"
     ]
    }
   ],
   "source": [
    "# --- Accuracy\n",
    "\n",
    "with torch.no_grad():\n",
    "    pred_train = model(inputs)\n",
    "    pred_train = np.round(pred_train.numpy())\n",
    "    train_accuracy = np.mean(y_train == pred_train)\n",
    "\n",
    "    pred_test = model(inputs_test)\n",
    "    pred_test = np.round(pred_test.numpy())\n",
    "    test_accuracy = np.mean(y_test == pred_test)\n",
    "\n",
    "print('Train accuracy is : ',train_accuracy)\n",
    "print('Test accuracy is : ',test_accuracy)"
   ]
  },
  {
   "cell_type": "code",
   "execution_count": 12,
   "metadata": {},
   "outputs": [
    {
     "data": {
      "image/png": "[encoded data removed]",
      "text/plain": [
       "<Figure size 640x480 with 2 Axes>"
      ]
     },
     "metadata": {},
     "output_type": "display_data"
    }
   ],
   "source": [
    "# --- Matrice de confusion\n",
    "\n",
    "from sklearn.metrics import confusion_matrix, ConfusionMatrixDisplay\n",
    "\n",
    "cm = confusion_matrix(y_test, pred_test)\n",
    "\n",
    "cm_display = ConfusionMatrixDisplay(confusion_matrix=cm, display_labels=[0,1])\n",
    "\n",
    "cm_display.plot()\n",
    "plt.show()"
   ]
  },
  {
   "cell_type": "markdown",
   "metadata": {},
   "source": [
    "## <a id=\"requirements\" style=\"color:black\">REQUIREMENTS.txt</a>"
   ]
  },
  {
   "cell_type": "markdown",
   "metadata": {},
   "source": [
    "<span style=\"color:orange\">Ce notebook a été créé avec python 3.10</span>\n",
    "\n",
    "Requirements.txt  \n",
    "\n",
    "```\n",
    "alembic==1.13.2\n",
    "aniso8601==9.0.1\n",
    "anyio==4.4.0\n",
    "argon2-cffi==23.1.0\n",
    "argon2-cffi-bindings==21.2.0\n",
    "arrow==1.3.0\n",
    "asttokens==2.4.1\n",
    "async-lru==2.0.4\n",
    "attrs==23.2.0\n",
    "Babel==2.15.0\n",
    "bcrypt==4.1.3\n",
    "beautifulsoup4==4.12.3      \n",
    "bleach==6.1.0\n",
    "blinker==1.8.2\n",
    "boto3==1.35.35\n",
    "botocore==1.35.40\n",
    "cachetools==5.4.0\n",
    "certifi==2024.6.2\n",
    "cffi==1.16.0\n",
    "charset-normalizer==3.3.2   \n",
    "click==8.1.7\n",
    "cloudpickle==3.0.0\n",
    "colorama==0.4.6\n",
    "comm==0.2.2\n",
    "contourpy==1.2.1\n",
    "cryptography==42.0.8        \n",
    "cycler==0.12.1\n",
    "databricks-sdk==0.31.1      \n",
    "debugpy==1.8.1\n",
    "decorator==5.1.1\n",
    "defusedxml==0.7.1\n",
    "Deprecated==1.2.14\n",
    "docker==7.1.0\n",
    "entrypoints==0.4\n",
    "exceptiongroup==1.2.1\n",
    "executing==2.0.1\n",
    "fastjsonschema==2.19.1\n",
    "filelock==3.13.1\n",
    "Flask==3.0.3\n",
    "fonttools==4.53.0\n",
    "fqdn==1.5.1\n",
    "fsspec==2024.2.0\n",
    "gitdb==4.0.11\n",
    "GitPython==3.1.43\n",
    "google-auth==2.34.0\n",
    "graphene==3.3\n",
    "graphql-core==3.2.3\n",
    "graphql-relay==3.2.0\n",
    "greenlet==3.0.3\n",
    "h11==0.14.0\n",
    "httpcore==1.0.5\n",
    "httpx==0.27.0\n",
    "idna==3.7\n",
    "imageio==2.35.1\n",
    "importlib_metadata==7.1.0\n",
    "intel-openmp==2021.4.0\n",
    "ipykernel==6.29.4\n",
    "ipython==8.25.0\n",
    "ipywidgets==8.1.3\n",
    "isoduration==20.11.0\n",
    "itsdangerous==2.2.0\n",
    "jedi==0.19.1\n",
    "Jinja2==3.1.3\n",
    "jmespath==1.0.1\n",
    "joblib==1.4.2\n",
    "json5==0.9.25\n",
    "jsonpointer==3.0.0\n",
    "jsonschema==4.22.0\n",
    "jsonschema-specifications==2023.12.1\n",
    "jupyter==1.0.0\n",
    "jupyter-console==6.6.3\n",
    "jupyter-events==0.10.0\n",
    "jupyter-lsp==2.2.5\n",
    "jupyter_client==8.6.2\n",
    "jupyter_core==5.7.2\n",
    "jupyter_server==2.14.1\n",
    "jupyter_server_terminals==0.5.3\n",
    "jupyterlab==4.2.2\n",
    "jupyterlab_pygments==0.3.0\n",
    "jupyterlab_server==2.27.2\n",
    "jupyterlab_widgets==3.0.11\n",
    "kiwisolver==1.4.5\n",
    "lazy_loader==0.4\n",
    "Mako==1.3.5\n",
    "Markdown==3.6\n",
    "MarkupSafe==2.1.5\n",
    "matplotlib==3.9.0\n",
    "matplotlib-inline==0.1.7\n",
    "mistune==3.0.2\n",
    "mkl==2021.4.0\n",
    "mlflow==2.15.1\n",
    "mlflow-skinny==2.15.1\n",
    "mpmath==1.3.0\n",
    "nbclient==0.10.0\n",
    "nbconvert==7.16.4\n",
    "nbformat==5.10.4\n",
    "nest-asyncio==1.6.0\n",
    "networkx==3.2.1\n",
    "notebook==7.2.1\n",
    "notebook_shim==0.2.4\n",
    "numpy==1.26.3\n",
    "opentelemetry-api==1.25.0\n",
    "opentelemetry-sdk==1.25.0\n",
    "opentelemetry-semantic-conventions==0.46b0\n",
    "overrides==7.7.0\n",
    "packaging==24.1\n",
    "pandas==2.2.2\n",
    "pandocfilters==1.5.1\n",
    "paramiko==3.4.0\n",
    "parso==0.8.4\n",
    "pillow==10.2.0\n",
    "platformdirs==4.2.2\n",
    "prometheus_client==0.20.0\n",
    "prompt_toolkit==3.0.47\n",
    "protobuf==5.28.2\n",
    "psutil==5.9.8\n",
    "pure-eval==0.2.2\n",
    "pyarrow==15.0.2\n",
    "pyasn1==0.6.0\n",
    "pyasn1_modules==0.4.0\n",
    "pycparser==2.22\n",
    "Pygments==2.18.0\n",
    "PyNaCl==1.5.0\n",
    "pyparsing==3.1.2\n",
    "pysftp==0.2.8\n",
    "python-dateutil==2.9.0.post0\n",
    "python-json-logger==2.0.7\n",
    "pytz==2024.1\n",
    "pywin32==306\n",
    "pywinpty==2.0.13\n",
    "PyYAML==6.0.1\n",
    "pyzmq==26.0.3\n",
    "qtconsole==5.5.2\n",
    "QtPy==2.4.1\n",
    "querystring-parser==1.2.4\n",
    "referencing==0.35.1\n",
    "requests==2.32.3\n",
    "rfc3339-validator==0.1.4\n",
    "rfc3986-validator==0.1.1\n",
    "rpds-py==0.18.1\n",
    "rsa==4.9\n",
    "s3transfer==0.10.3\n",
    "scikit-image==0.24.0\n",
    "scikit-learn==1.5.1\n",
    "scipy==1.14.0\n",
    "Send2Trash==1.8.3\n",
    "six==1.16.0\n",
    "smmap==5.0.1\n",
    "sniffio==1.3.1\n",
    "soupsieve==2.5\n",
    "SQLAlchemy==2.0.31\n",
    "sqlparse==0.5.1\n",
    "stack-data==0.6.3\n",
    "sympy==1.12\n",
    "tbb==2021.11.0\n",
    "terminado==0.18.1\n",
    "threadpoolctl==3.5.0\n",
    "tifffile==2024.9.20\n",
    "tinycss2==1.3.0\n",
    "tomli==2.0.1\n",
    "torch==2.3.1+cu121\n",
    "torchaudio==2.3.1+cu121\n",
    "torchvision==0.18.1+cu121\n",
    "tornado==6.4.1\n",
    "traitlets==5.14.3\n",
    "types-python-dateutil==2.9.0.20240316\n",
    "typing_extensions==4.9.0\n",
    "tzdata==2024.1\n",
    "uri-template==1.3.0\n",
    "urllib3==2.2.1\n",
    "waitress==3.0.0\n",
    "wcwidth==0.2.13\n",
    "webcolors==24.6.0\n",
    "webencodings==0.5.1\n",
    "websocket-client==1.8.0\n",
    "Werkzeug==3.0.3\n",
    "widgetsnbextension==4.0.11\n",
    "wrapt==1.16.0\n",
    "zipp==3.19.2\n",
    "```"
   ]
  }
 ],
 "metadata": {
  "authors": [
   {
    "name": "Nelly Traore"
   }
  ],
  "kernelspec": {
   "display_name": "torch-env310",
   "language": "python",
   "name": "torch-env310"
  },
  "language_info": {
   "codemirror_mode": {
    "name": "ipython",
    "version": 3
   },
   "file_extension": ".py",
   "mimetype": "text/x-python",
   "name": "python",
   "nbconvert_exporter": "python",
   "pygments_lexer": "ipython3",
   "version": "3.10.11"
  }
 },
 "nbformat": 4,
 "nbformat_minor": 2
}
