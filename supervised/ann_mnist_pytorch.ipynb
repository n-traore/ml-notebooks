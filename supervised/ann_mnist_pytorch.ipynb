{
 "cells": [
  {
   "cell_type": "markdown",
   "metadata": {},
   "source": [
    "# Réseau de neurones artificiel Feed Forward : Classification Multiclasses\n",
    "\n",
    " "
   ]
  },
  {
   "cell_type": "markdown",
   "metadata": {},
   "source": [
    "Exemple simple de classification multiclasses par réseau de neurones, sur les données MNIST, avec PyTorch. "
   ]
  },
  {
   "cell_type": "markdown",
   "metadata": {},
   "source": [
    "[REQUIREMENTS.txt](#requirements)"
   ]
  },
  {
   "cell_type": "code",
   "execution_count": 1,
   "metadata": {},
   "outputs": [],
   "source": [
    "# --- Imports\n",
    "\n",
    "import torch\n",
    "import torch.nn as nn\n",
    "import torchvision\n",
    "import torchvision.transforms as transforms\n",
    "import numpy as np\n",
    "import matplotlib.pyplot as plt"
   ]
  },
  {
   "cell_type": "code",
   "execution_count": 2,
   "metadata": {},
   "outputs": [
    {
     "name": "stdout",
     "output_type": "stream",
     "text": [
      "Downloading http://yann.lecun.com/exdb/mnist/train-images-idx3-ubyte.gz\n",
      "Failed to download (trying next):\n",
      "<urlopen error [SSL: CERTIFICATE_VERIFY_FAILED] certificate verify failed: certificate has expired (_ssl.c:1007)>\n",
      "\n",
      "Downloading https://ossci-datasets.s3.amazonaws.com/mnist/train-images-idx3-ubyte.gz\n",
      "Downloading https://ossci-datasets.s3.amazonaws.com/mnist/train-images-idx3-ubyte.gz to ../tmp\\MNIST\\raw\\train-images-idx3-ubyte.gz\n"
     ]
    },
    {
     "name": "stderr",
     "output_type": "stream",
     "text": [
      "100.0%\n"
     ]
    },
    {
     "name": "stdout",
     "output_type": "stream",
     "text": [
      "Extracting ../tmp\\MNIST\\raw\\train-images-idx3-ubyte.gz to ../tmp\\MNIST\\raw\n",
      "\n",
      "Downloading http://yann.lecun.com/exdb/mnist/train-labels-idx1-ubyte.gz\n",
      "Failed to download (trying next):\n",
      "<urlopen error [SSL: CERTIFICATE_VERIFY_FAILED] certificate verify failed: certificate has expired (_ssl.c:1007)>\n",
      "\n",
      "Downloading https://ossci-datasets.s3.amazonaws.com/mnist/train-labels-idx1-ubyte.gz\n",
      "Downloading https://ossci-datasets.s3.amazonaws.com/mnist/train-labels-idx1-ubyte.gz to ../tmp\\MNIST\\raw\\train-labels-idx1-ubyte.gz\n"
     ]
    },
    {
     "name": "stderr",
     "output_type": "stream",
     "text": [
      "100.0%\n"
     ]
    },
    {
     "name": "stdout",
     "output_type": "stream",
     "text": [
      "Extracting ../tmp\\MNIST\\raw\\train-labels-idx1-ubyte.gz to ../tmp\\MNIST\\raw\n",
      "\n",
      "Downloading http://yann.lecun.com/exdb/mnist/t10k-images-idx3-ubyte.gz\n",
      "Failed to download (trying next):\n",
      "<urlopen error [SSL: CERTIFICATE_VERIFY_FAILED] certificate verify failed: certificate has expired (_ssl.c:1007)>\n",
      "\n",
      "Downloading https://ossci-datasets.s3.amazonaws.com/mnist/t10k-images-idx3-ubyte.gz\n",
      "Downloading https://ossci-datasets.s3.amazonaws.com/mnist/t10k-images-idx3-ubyte.gz to ../tmp\\MNIST\\raw\\t10k-images-idx3-ubyte.gz\n"
     ]
    },
    {
     "name": "stderr",
     "output_type": "stream",
     "text": [
      "100.0%\n"
     ]
    },
    {
     "name": "stdout",
     "output_type": "stream",
     "text": [
      "Extracting ../tmp\\MNIST\\raw\\t10k-images-idx3-ubyte.gz to ../tmp\\MNIST\\raw\n",
      "\n",
      "Downloading http://yann.lecun.com/exdb/mnist/t10k-labels-idx1-ubyte.gz\n",
      "Failed to download (trying next):\n",
      "<urlopen error [SSL: CERTIFICATE_VERIFY_FAILED] certificate verify failed: certificate has expired (_ssl.c:1007)>\n",
      "\n",
      "Downloading https://ossci-datasets.s3.amazonaws.com/mnist/t10k-labels-idx1-ubyte.gz\n",
      "Downloading https://ossci-datasets.s3.amazonaws.com/mnist/t10k-labels-idx1-ubyte.gz to ../tmp\\MNIST\\raw\\t10k-labels-idx1-ubyte.gz\n"
     ]
    },
    {
     "name": "stderr",
     "output_type": "stream",
     "text": [
      "100.0%"
     ]
    },
    {
     "name": "stdout",
     "output_type": "stream",
     "text": [
      "Extracting ../tmp\\MNIST\\raw\\t10k-labels-idx1-ubyte.gz to ../tmp\\MNIST\\raw\n",
      "\n"
     ]
    },
    {
     "name": "stderr",
     "output_type": "stream",
     "text": [
      "\n"
     ]
    }
   ],
   "source": [
    "# --- Torchvision : charger les données\n",
    "train_dataset = torchvision.datasets.MNIST(\n",
    "    root='../tmp',\n",
    "    train=True,\n",
    "    transform=transforms.ToTensor(),\n",
    "    download=True\n",
    ")\n",
    "\n",
    "test_dataset = torchvision.datasets.MNIST(\n",
    "    root='../tmp',\n",
    "    train=False,\n",
    "    transform=transforms.ToTensor(),\n",
    "    download=True\n",
    ")\n"
   ]
  },
  {
   "cell_type": "code",
   "execution_count": 3,
   "metadata": {},
   "outputs": [
    {
     "name": "stdout",
     "output_type": "stream",
     "text": [
      "Shape du jeu dentrainement: torch.Size([60000, 28, 28])\n",
      "Target du jeu dentrainement:  tensor([5, 0, 4,  ..., 5, 6, 8])\n"
     ]
    }
   ],
   "source": [
    "print('Shape du jeu d''entrainement:', train_dataset.data.shape)\n",
    "print('Target du jeu d''entrainement: ', train_dataset.targets)"
   ]
  },
  {
   "cell_type": "code",
   "execution_count": 4,
   "metadata": {},
   "outputs": [
    {
     "name": "stdout",
     "output_type": "stream",
     "text": [
      "Shape du jeu de test: torch.Size([10000, 28, 28])\n",
      "Target du jeu de test:  tensor([7, 2, 1,  ..., 4, 5, 6])\n"
     ]
    }
   ],
   "source": [
    "print('Shape du jeu de test:', test_dataset.data.shape)\n",
    "print('Target du jeu de test: ', test_dataset.targets)"
   ]
  },
  {
   "cell_type": "code",
   "execution_count": 5,
   "metadata": {},
   "outputs": [],
   "source": [
    "# --- Création du modèle ANN\n",
    "\n",
    "model = nn.Sequential(\n",
    "    nn.Linear(784, 128),\n",
    "    nn.ReLU(),\n",
    "    nn.Linear(128, 10)\n",
    ")"
   ]
  },
  {
   "cell_type": "code",
   "execution_count": 6,
   "metadata": {},
   "outputs": [
    {
     "name": "stdout",
     "output_type": "stream",
     "text": [
      "cuda:0\n"
     ]
    },
    {
     "data": {
      "text/plain": [
       "Sequential(\n",
       "  (0): Linear(in_features=784, out_features=128, bias=True)\n",
       "  (1): ReLU()\n",
       "  (2): Linear(in_features=128, out_features=10, bias=True)\n",
       ")"
      ]
     },
     "execution_count": 6,
     "metadata": {},
     "output_type": "execute_result"
    }
   ],
   "source": [
    "# --- GPU\n",
    "device = torch.device('cuda:0' if torch.cuda.is_available() else 'cpu')\n",
    "print(device)\n",
    "\n",
    "model.to(device)"
   ]
  },
  {
   "cell_type": "code",
   "execution_count": 7,
   "metadata": {},
   "outputs": [],
   "source": [
    "# --- Entraîner le modèle\n",
    "\n",
    "criterion = nn.CrossEntropyLoss()\n",
    "optimizer = torch.optim.Adam(model.parameters())\n",
    "\n",
    "# Dataloader les batchs\n",
    "batch_size = 128\n",
    "train_loader = torch.utils.data.DataLoader(\n",
    "    dataset = train_dataset,\n",
    "    batch_size = batch_size,\n",
    "    shuffle = True\n",
    ")\n",
    "\n",
    "test_loader = torch.utils.data.DataLoader(\n",
    "    dataset = test_dataset,\n",
    "    batch_size = batch_size,\n",
    "    shuffle = False\n",
    ")\n"
   ]
  },
  {
   "cell_type": "code",
   "execution_count": 8,
   "metadata": {},
   "outputs": [
    {
     "name": "stdout",
     "output_type": "stream",
     "text": [
      "Epoch 1/10, \n",
      "            Train Loss|accuracy: 0.4145 | 0.8917,\n",
      "            Test Loss|accuracy: 0.2329 | 0.9316\n",
      "Epoch 2/10, \n",
      "            Train Loss|accuracy: 0.1919 | 0.9458,\n",
      "            Test Loss|accuracy: 0.1540 | 0.9532\n",
      "Epoch 3/10, \n",
      "            Train Loss|accuracy: 0.1351 | 0.9619,\n",
      "            Test Loss|accuracy: 0.1234 | 0.9623\n",
      "Epoch 4/10, \n",
      "            Train Loss|accuracy: 0.1048 | 0.9689,\n",
      "            Test Loss|accuracy: 0.1024 | 0.9699\n",
      "Epoch 5/10, \n",
      "            Train Loss|accuracy: 0.0848 | 0.9756,\n",
      "            Test Loss|accuracy: 0.0873 | 0.9740\n",
      "Epoch 6/10, \n",
      "            Train Loss|accuracy: 0.0699 | 0.9794,\n",
      "            Test Loss|accuracy: 0.0843 | 0.9747\n",
      "Epoch 7/10, \n",
      "            Train Loss|accuracy: 0.0587 | 0.9824,\n",
      "            Test Loss|accuracy: 0.0783 | 0.9779\n",
      "Epoch 8/10, \n",
      "            Train Loss|accuracy: 0.0491 | 0.9855,\n",
      "            Test Loss|accuracy: 0.0828 | 0.9758\n",
      "Epoch 9/10, \n",
      "            Train Loss|accuracy: 0.0419 | 0.9878,\n",
      "            Test Loss|accuracy: 0.0758 | 0.9782\n",
      "Epoch 10/10, \n",
      "            Train Loss|accuracy: 0.0365 | 0.9895,\n",
      "            Test Loss|accuracy: 0.0703 | 0.9785\n"
     ]
    }
   ],
   "source": [
    "# boucle d'entraînement\n",
    "n_epochs = 10\n",
    "train_losses = np.zeros(n_epochs)\n",
    "test_losses = np.zeros(n_epochs)\n",
    "train_accuracy = np.zeros(n_epochs)\n",
    "test_accuracy = np.zeros(n_epochs)\n",
    "\n",
    "for it in range(n_epochs):\n",
    "    train_loss_epoch = []\n",
    "    train_n_correct = train_n_total = 0\n",
    "    test_loss_epoch = []\n",
    "    test_n_correct = test_n_total = 0\n",
    "\n",
    "    # boucle d'entraînement\n",
    "    for inputs, targets in train_loader:\n",
    "        inputs, targets = inputs.to(device), targets.to(device)\n",
    "\n",
    "        inputs = inputs.view(-1, 784)\n",
    "        optimizer.zero_grad()\n",
    "\n",
    "        outputs = model(inputs)\n",
    "        loss = criterion(outputs, targets)\n",
    "        acc = (targets == torch.max(outputs, 1)[1])\n",
    "    \n",
    "        loss.backward()\n",
    "        optimizer.step()\n",
    "\n",
    "        train_loss_epoch.append(loss.item())\n",
    "        train_n_correct += acc.sum().item()\n",
    "        train_n_total += targets.shape[0]\n",
    "    \n",
    "    train_loss_epoch = np.mean(train_loss_epoch)\n",
    "    train_accuracy_epoch = train_n_correct/train_n_total\n",
    "\n",
    "    # boucle de test\n",
    "    for inputs_test, targets_test in test_loader:\n",
    "        inputs_test, targets_test= inputs_test.to(device), targets_test.to(device)\n",
    "        inputs_test = inputs_test.view(-1, 784)\n",
    "\n",
    "        outputs_test = model(inputs_test)\n",
    "        loss_test = criterion(outputs_test, targets_test)\n",
    "        acc_test = (targets_test == torch.max(outputs_test, 1)[1])\n",
    "\n",
    "        test_loss_epoch.append(loss_test.item())\n",
    "        test_n_correct += acc_test.sum().item()\n",
    "        test_n_total += targets_test.shape[0]\n",
    "    \n",
    "    test_loss_epoch = np.mean(test_loss_epoch)\n",
    "    test_accuracy_epoch = test_n_correct/test_n_total\n",
    "\n",
    "\n",
    "    # loss par epoch\n",
    "    train_losses[it] = train_loss_epoch\n",
    "    test_losses[it] = test_loss_epoch\n",
    "\n",
    "    # accuracy par epoch\n",
    "    train_accuracy[it] = train_accuracy_epoch\n",
    "    test_accuracy[it] = test_accuracy_epoch\n",
    "\n",
    "    print(f'''Epoch {it+1}/{n_epochs}, \n",
    "            Train Loss|accuracy: {train_loss_epoch:.4f} | {train_accuracy_epoch:.4f},\n",
    "            Test Loss|accuracy: {test_loss_epoch:.4f} | {test_accuracy_epoch:.4f}''')\n"
   ]
  },
  {
   "cell_type": "code",
   "execution_count": 9,
   "metadata": {},
   "outputs": [
    {
     "data": {
      "image/png": "[encoded data removed]",
      "text/plain": [
       "<Figure size 640x480 with 1 Axes>"
      ]
     },
     "metadata": {},
     "output_type": "display_data"
    }
   ],
   "source": [
    "# Loss par itération\n",
    "plt.plot(train_losses, label='Training loss')\n",
    "plt.plot(test_losses, label='Test loss')\n",
    "plt.legend()\n",
    "plt.show()"
   ]
  },
  {
   "cell_type": "code",
   "execution_count": 10,
   "metadata": {},
   "outputs": [
    {
     "data": {
      "image/png": "[encoded data removed]",
      "text/plain": [
       "<Figure size 640x480 with 1 Axes>"
      ]
     },
     "metadata": {},
     "output_type": "display_data"
    }
   ],
   "source": [
    "# Accuracy par itération\n",
    "plt.plot(train_accuracy, label='Training accuracy')\n",
    "plt.plot(test_accuracy, label='Test accuracy')\n",
    "plt.legend()\n",
    "plt.show()"
   ]
  },
  {
   "cell_type": "code",
   "execution_count": 12,
   "metadata": {},
   "outputs": [
    {
     "name": "stdout",
     "output_type": "stream",
     "text": [
      "Train accuracy :  0.9928666666666667\n",
      "Test accuracy :  0.9785\n"
     ]
    }
   ],
   "source": [
    "# --- Evaluer le modèle\n",
    "\n",
    "# Train\n",
    "train_n_correct = train_n_total = 0\n",
    "for inputs, targets in train_loader:\n",
    "    inputs, targets = inputs.to(device), targets.to(device)\n",
    "    inputs = inputs.view(-1, 784)\n",
    "\n",
    "    outputs = model(inputs)\n",
    "    _, predictions = torch.max(outputs, 1)\n",
    "    \n",
    "    train_n_correct += (predictions == targets).sum().item()\n",
    "    train_n_total += targets.shape[0]\n",
    "\n",
    "\n",
    "# Test\n",
    "x_test = test_dataset.data.numpy()\n",
    "y_test = test_dataset.targets.numpy()\n",
    "pred_test = np.array([])\n",
    "\n",
    "test_n_correct = test_n_total = 0\n",
    "for inputs_test, targets_test in test_loader:\n",
    "    inputs_test, targets_test = inputs_test.to(device), targets_test.to(device)\n",
    "    inputs_test = inputs_test.view(-1, 784)\n",
    "\n",
    "    outputs_test = model(inputs_test)\n",
    "    _, predictions_test = torch.max(outputs_test, 1)\n",
    "    \n",
    "    test_n_correct += (predictions_test == targets_test).sum().item()\n",
    "    test_n_total += targets_test.shape[0]\n",
    "\n",
    "    pred_test = np.concatenate((pred_test, predictions_test.cpu().numpy()))\n",
    "\n",
    "print('Train accuracy : ', train_n_correct/train_n_total)\n",
    "print('Test accuracy : ', test_n_correct/test_n_total)\n"
   ]
  },
  {
   "cell_type": "code",
   "execution_count": 13,
   "metadata": {},
   "outputs": [
    {
     "data": {
      "image/png": "[encoded data removed]",
      "text/plain": [
       "<Figure size 640x480 with 2 Axes>"
      ]
     },
     "metadata": {},
     "output_type": "display_data"
    }
   ],
   "source": [
    "# --- Matrice de confusion\n",
    "\n",
    "from sklearn.metrics import confusion_matrix, ConfusionMatrixDisplay\n",
    "\n",
    "\n",
    "cm = confusion_matrix(y_test, pred_test)\n",
    "\n",
    "cm_display = ConfusionMatrixDisplay(confusion_matrix=cm, display_labels=torch.unique(train_dataset.targets).numpy())\n",
    "\n",
    "cm_display.plot()\n",
    "plt.show()"
   ]
  },
  {
   "cell_type": "code",
   "execution_count": 18,
   "metadata": {},
   "outputs": [
    {
     "data": {
      "image/png": "[encoded data removed]",
      "text/plain": [
       "<Figure size 640x480 with 1 Axes>"
      ]
     },
     "metadata": {},
     "output_type": "display_data"
    }
   ],
   "source": [
    "# --- Exemples de mauvaise prédiction\n",
    "\n",
    "missclassified_idx = np.where(pred_test != y_test)[0]\n",
    "i = np.random.choice(missclassified_idx)\n",
    "plt.imshow(x_test[i], cmap='gray')\n",
    "plt.title(f'True label: {y_test[i]} -- Predicted: {int(pred_test[i])}')\n",
    "plt.show()"
   ]
  },
  {
   "cell_type": "markdown",
   "metadata": {},
   "source": [
    "## <a id=\"requirements\" style=\"color:black\">REQUIREMENTS.txt</a>"
   ]
  },
  {
   "cell_type": "markdown",
   "metadata": {},
   "source": [
    "<span style=\"color:orange\">Ce notebook a été créé avec python 3.10</span>\n",
    "\n",
    "Requirements.txt  \n",
    "\n",
    "```\n",
    "alembic==1.13.2\n",
    "aniso8601==9.0.1\n",
    "anyio==4.4.0\n",
    "argon2-cffi==23.1.0\n",
    "argon2-cffi-bindings==21.2.0\n",
    "arrow==1.3.0\n",
    "asttokens==2.4.1\n",
    "async-lru==2.0.4\n",
    "attrs==23.2.0\n",
    "Babel==2.15.0\n",
    "bcrypt==4.1.3\n",
    "beautifulsoup4==4.12.3      \n",
    "bleach==6.1.0\n",
    "blinker==1.8.2\n",
    "boto3==1.35.35\n",
    "botocore==1.35.40\n",
    "cachetools==5.4.0\n",
    "certifi==2024.6.2\n",
    "cffi==1.16.0\n",
    "charset-normalizer==3.3.2   \n",
    "click==8.1.7\n",
    "cloudpickle==3.0.0\n",
    "colorama==0.4.6\n",
    "comm==0.2.2\n",
    "contourpy==1.2.1\n",
    "cryptography==42.0.8        \n",
    "cycler==0.12.1\n",
    "databricks-sdk==0.31.1      \n",
    "debugpy==1.8.1\n",
    "decorator==5.1.1\n",
    "defusedxml==0.7.1\n",
    "Deprecated==1.2.14\n",
    "docker==7.1.0\n",
    "entrypoints==0.4\n",
    "exceptiongroup==1.2.1\n",
    "executing==2.0.1\n",
    "fastjsonschema==2.19.1\n",
    "filelock==3.13.1\n",
    "Flask==3.0.3\n",
    "fonttools==4.53.0\n",
    "fqdn==1.5.1\n",
    "fsspec==2024.2.0\n",
    "gitdb==4.0.11\n",
    "GitPython==3.1.43\n",
    "google-auth==2.34.0\n",
    "graphene==3.3\n",
    "graphql-core==3.2.3\n",
    "graphql-relay==3.2.0\n",
    "greenlet==3.0.3\n",
    "h11==0.14.0\n",
    "httpcore==1.0.5\n",
    "httpx==0.27.0\n",
    "idna==3.7\n",
    "imageio==2.35.1\n",
    "importlib_metadata==7.1.0\n",
    "intel-openmp==2021.4.0\n",
    "ipykernel==6.29.4\n",
    "ipython==8.25.0\n",
    "ipywidgets==8.1.3\n",
    "isoduration==20.11.0\n",
    "itsdangerous==2.2.0\n",
    "jedi==0.19.1\n",
    "Jinja2==3.1.3\n",
    "jmespath==1.0.1\n",
    "joblib==1.4.2\n",
    "json5==0.9.25\n",
    "jsonpointer==3.0.0\n",
    "jsonschema==4.22.0\n",
    "jsonschema-specifications==2023.12.1\n",
    "jupyter==1.0.0\n",
    "jupyter-console==6.6.3\n",
    "jupyter-events==0.10.0\n",
    "jupyter-lsp==2.2.5\n",
    "jupyter_client==8.6.2\n",
    "jupyter_core==5.7.2\n",
    "jupyter_server==2.14.1\n",
    "jupyter_server_terminals==0.5.3\n",
    "jupyterlab==4.2.2\n",
    "jupyterlab_pygments==0.3.0\n",
    "jupyterlab_server==2.27.2\n",
    "jupyterlab_widgets==3.0.11\n",
    "kiwisolver==1.4.5\n",
    "lazy_loader==0.4\n",
    "Mako==1.3.5\n",
    "Markdown==3.6\n",
    "MarkupSafe==2.1.5\n",
    "matplotlib==3.9.0\n",
    "matplotlib-inline==0.1.7\n",
    "mistune==3.0.2\n",
    "mkl==2021.4.0\n",
    "mlflow==2.15.1\n",
    "mlflow-skinny==2.15.1\n",
    "mpmath==1.3.0\n",
    "nbclient==0.10.0\n",
    "nbconvert==7.16.4\n",
    "nbformat==5.10.4\n",
    "nest-asyncio==1.6.0\n",
    "networkx==3.2.1\n",
    "notebook==7.2.1\n",
    "notebook_shim==0.2.4\n",
    "numpy==1.26.3\n",
    "opentelemetry-api==1.25.0\n",
    "opentelemetry-sdk==1.25.0\n",
    "opentelemetry-semantic-conventions==0.46b0\n",
    "overrides==7.7.0\n",
    "packaging==24.1\n",
    "pandas==2.2.2\n",
    "pandocfilters==1.5.1\n",
    "paramiko==3.4.0\n",
    "parso==0.8.4\n",
    "pillow==10.2.0\n",
    "platformdirs==4.2.2\n",
    "prometheus_client==0.20.0\n",
    "prompt_toolkit==3.0.47\n",
    "protobuf==5.28.2\n",
    "psutil==5.9.8\n",
    "pure-eval==0.2.2\n",
    "pyarrow==15.0.2\n",
    "pyasn1==0.6.0\n",
    "pyasn1_modules==0.4.0\n",
    "pycparser==2.22\n",
    "Pygments==2.18.0\n",
    "PyNaCl==1.5.0\n",
    "pyparsing==3.1.2\n",
    "pysftp==0.2.8\n",
    "python-dateutil==2.9.0.post0\n",
    "python-json-logger==2.0.7\n",
    "pytz==2024.1\n",
    "pywin32==306\n",
    "pywinpty==2.0.13\n",
    "PyYAML==6.0.1\n",
    "pyzmq==26.0.3\n",
    "qtconsole==5.5.2\n",
    "QtPy==2.4.1\n",
    "querystring-parser==1.2.4\n",
    "referencing==0.35.1\n",
    "requests==2.32.3\n",
    "rfc3339-validator==0.1.4\n",
    "rfc3986-validator==0.1.1\n",
    "rpds-py==0.18.1\n",
    "rsa==4.9\n",
    "s3transfer==0.10.3\n",
    "scikit-image==0.24.0\n",
    "scikit-learn==1.5.1\n",
    "scipy==1.14.0\n",
    "Send2Trash==1.8.3\n",
    "six==1.16.0\n",
    "smmap==5.0.1\n",
    "sniffio==1.3.1\n",
    "soupsieve==2.5\n",
    "SQLAlchemy==2.0.31\n",
    "sqlparse==0.5.1\n",
    "stack-data==0.6.3\n",
    "sympy==1.12\n",
    "tbb==2021.11.0\n",
    "terminado==0.18.1\n",
    "threadpoolctl==3.5.0\n",
    "tifffile==2024.9.20\n",
    "tinycss2==1.3.0\n",
    "tomli==2.0.1\n",
    "torch==2.3.1+cu121\n",
    "torchaudio==2.3.1+cu121\n",
    "torchvision==0.18.1+cu121\n",
    "tornado==6.4.1\n",
    "traitlets==5.14.3\n",
    "types-python-dateutil==2.9.0.20240316\n",
    "typing_extensions==4.9.0\n",
    "tzdata==2024.1\n",
    "uri-template==1.3.0\n",
    "urllib3==2.2.1\n",
    "waitress==3.0.0\n",
    "wcwidth==0.2.13\n",
    "webcolors==24.6.0\n",
    "webencodings==0.5.1\n",
    "websocket-client==1.8.0\n",
    "Werkzeug==3.0.3\n",
    "widgetsnbextension==4.0.11\n",
    "wrapt==1.16.0\n",
    "zipp==3.19.2\n",
    "```"
   ]
  }
 ],
 "metadata": {
  "authors": [
   {
    "name": "Nelly Traore"
   }
  ],
  "kernelspec": {
   "display_name": "torch-env310",
   "language": "python",
   "name": "torch-env310"
  },
  "language_info": {
   "codemirror_mode": {
    "name": "ipython",
    "version": 3
   },
   "file_extension": ".py",
   "mimetype": "text/x-python",
   "name": "python",
   "nbconvert_exporter": "python",
   "pygments_lexer": "ipython3",
   "version": "3.10.11"
  }
 },
 "nbformat": 4,
 "nbformat_minor": 2
}
