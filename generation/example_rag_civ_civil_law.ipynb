{
 "cells": [
  {
   "cell_type": "markdown",
   "metadata": {},
   "source": [
    "# RAG simple PDF\n",
    "\n",
    "\n",
    "L'objectif de ce notebook est d'expérimenter un RAG simple sur le fichier pdf du code civil Ivoirien, avec le modèle Gemma2 en local.\n",
    "\n",
    "\n",
    "\n",
    "### SOMMAIRE  \n",
    "[1. Prepare data (load and chunk)](#prepare-data-load-chunk)  \n",
    "[2. Vector database](#vector-database)  \n",
    "[3. RAG](#rag)  "
   ]
  },
  {
   "cell_type": "markdown",
   "metadata": {},
   "source": [
    "##### Packages requirements list"
   ]
  },
  {
   "cell_type": "code",
   "execution_count": 1,
   "metadata": {},
   "outputs": [
    {
     "name": "stdout",
     "output_type": "stream",
     "text": [
      "aiohappyeyeballs==2.4.0\n",
      "aiohttp==3.10.5\n",
      "aiosignal==1.3.1\n",
      "annotated-types==0.7.0\n",
      "anyio==4.4.0\n",
      "argon2-cffi==23.1.0\n",
      "argon2-cffi-bindings==21.2.0\n",
      "arrow==1.3.0\n",
      "asttokens==2.4.1\n",
      "async-lru==2.0.4\n",
      "attrs==24.2.0\n",
      "babel==2.16.0\n",
      "beautifulsoup4==4.12.3\n",
      "bleach==6.1.0\n",
      "certifi==2024.8.30\n",
      "cffi==1.17.1\n",
      "charset-normalizer==3.3.2\n",
      "click==8.1.7\n",
      "colorama==0.4.6\n",
      "comm==0.2.2\n",
      "dataclasses-json==0.6.7\n",
      "debugpy==1.8.5\n",
      "decorator==5.1.1\n",
      "defusedxml==0.7.1\n",
      "dnspython==2.6.1\n",
      "docarray==0.40.0\n",
      "email_validator==2.2.0\n",
      "executing==2.1.0\n",
      "fastapi==0.115.0\n",
      "fastapi-cli==0.0.5\n",
      "fastjsonschema==2.20.0\n",
      "filelock==3.16.0\n",
      "fqdn==1.5.1\n",
      "frozenlist==1.4.1\n",
      "fsspec==2024.9.0\n",
      "greenlet==3.0.3\n",
      "h11==0.14.0\n",
      "httpcore==1.0.5\n",
      "httptools==0.6.1\n",
      "httpx==0.27.2\n",
      "huggingface-hub==0.24.7\n",
      "idna==3.8\n",
      "ipykernel==6.29.5\n",
      "ipython==8.27.0\n",
      "ipywidgets==8.1.5\n",
      "isoduration==20.11.0\n",
      "jedi==0.19.1\n",
      "Jinja2==3.1.4\n",
      "joblib==1.4.2\n",
      "json5==0.9.25\n",
      "jsonpatch==1.33\n",
      "jsonpointer==3.0.0\n",
      "jsonschema==4.23.0\n",
      "jsonschema-specifications==2023.12.1\n",
      "jupyter==1.1.1\n",
      "jupyter-console==6.6.3\n",
      "jupyter-events==0.10.0\n",
      "jupyter-lsp==2.2.5\n",
      "jupyter_client==8.6.2\n",
      "jupyter_core==5.7.2\n",
      "jupyter_server==2.14.2\n",
      "jupyter_server_terminals==0.5.3\n",
      "jupyterlab==4.2.5\n",
      "jupyterlab_pygments==0.3.0\n",
      "jupyterlab_server==2.27.3\n",
      "jupyterlab_widgets==3.0.13\n",
      "langchain==0.2.16\n",
      "langchain-community==0.2.16\n",
      "langchain-core==0.2.38\n",
      "langchain-experimental==0.0.64\n",
      "langchain-ollama==0.1.3\n",
      "langchain-postgres==0.0.12\n",
      "langchain-text-splitters==0.2.4\n",
      "langsmith==0.1.131\n",
      "markdown-it-py==3.0.0\n",
      "MarkupSafe==2.1.5\n",
      "marshmallow==3.22.0\n",
      "matplotlib-inline==0.1.7\n",
      "mdurl==0.1.2\n",
      "mistune==3.0.2\n",
      "mpmath==1.3.0\n",
      "multidict==6.0.5\n",
      "mypy-extensions==1.0.0\n",
      "nbclient==0.10.0\n",
      "nbconvert==7.16.4\n",
      "nbformat==5.10.4\n",
      "nest-asyncio==1.6.0\n",
      "networkx==3.3\n",
      "notebook==7.2.2\n",
      "notebook_shim==0.2.4\n",
      "numexpr==2.10.1\n",
      "numpy==1.26.4\n",
      "ollama==0.3.2\n",
      "orjson==3.10.7\n",
      "overrides==7.7.0\n",
      "packaging==24.1\n",
      "pandas==2.2.2\n",
      "pandocfilters==1.5.1\n",
      "parso==0.8.4\n",
      "pgvector==0.2.5\n",
      "pillow==10.4.0\n",
      "platformdirs==4.3.2\n",
      "prometheus_client==0.20.0\n",
      "prompt_toolkit==3.0.47\n",
      "psutil==6.0.0\n",
      "psycopg==3.2.2\n",
      "psycopg-binary==3.2.2\n",
      "psycopg-pool==3.2.3\n",
      "pure_eval==0.2.3\n",
      "pycparser==2.22\n",
      "pydantic==2.9.0\n",
      "pydantic_core==2.23.2\n",
      "Pygments==2.18.0\n",
      "pypdf==5.0.0\n",
      "python-dateutil==2.9.0.post0\n",
      "python-dotenv==1.0.1\n",
      "python-json-logger==2.0.7\n",
      "python-multipart==0.0.10\n",
      "pytz==2024.2\n",
      "pywin32==306\n",
      "pywinpty==2.0.13\n",
      "PyYAML==6.0.2\n",
      "pyzmq==26.2.0\n",
      "referencing==0.35.1\n",
      "regex==2024.9.11\n",
      "requests==2.32.3\n",
      "requests-toolbelt==1.0.0\n",
      "rfc3339-validator==0.1.4\n",
      "rfc3986-validator==0.1.1\n",
      "rich==13.8.1\n",
      "rpds-py==0.20.0\n",
      "safetensors==0.4.5\n",
      "scikit-learn==1.5.2\n",
      "scipy==1.14.1\n",
      "Send2Trash==1.8.3\n",
      "sentence-transformers==3.1.1\n",
      "shellingham==1.5.4\n",
      "six==1.16.0\n",
      "sniffio==1.3.1\n",
      "soupsieve==2.6\n",
      "SQLAlchemy==2.0.34\n",
      "stack-data==0.6.3\n",
      "starlette==0.38.6\n",
      "sympy==1.13.3\n",
      "tenacity==8.5.0\n",
      "terminado==0.18.1\n",
      "threadpoolctl==3.5.0\n",
      "tinycss2==1.3.0\n",
      "tokenizers==0.19.1\n",
      "torch==2.4.1\n",
      "tornado==6.4.1\n",
      "tqdm==4.66.5\n",
      "traitlets==5.14.3\n",
      "transformers==4.44.2\n",
      "typer==0.12.5\n",
      "types-python-dateutil==2.9.0.20240906\n",
      "types-requests==2.32.0.20240907\n",
      "typing-inspect==0.9.0\n",
      "typing_extensions==4.12.2\n",
      "tzdata==2024.1\n",
      "uri-template==1.3.0\n",
      "urllib3==2.2.2\n",
      "uvicorn==0.31.0\n",
      "watchfiles==0.24.0\n",
      "wcwidth==0.2.13\n",
      "webcolors==24.8.0\n",
      "webencodings==0.5.1\n",
      "websocket-client==1.8.0\n",
      "websockets==13.1\n",
      "widgetsnbextension==4.0.13\n",
      "wikipedia==1.4.0\n",
      "yarl==1.10.0\n"
     ]
    }
   ],
   "source": [
    "!pip freeze"
   ]
  },
  {
   "cell_type": "code",
   "execution_count": 1,
   "metadata": {},
   "outputs": [],
   "source": [
    "import logging\n",
    "logging.basicConfig(level=logging.INFO)\n",
    "simple_logger = logging.getLogger(__name__)"
   ]
  },
  {
   "cell_type": "markdown",
   "metadata": {},
   "source": [
    "### <a id='prepare-data-load-chunk'>1. Prepare data (load and chunk)</a>"
   ]
  },
  {
   "cell_type": "code",
   "execution_count": 2,
   "metadata": {},
   "outputs": [],
   "source": [
    "model_name = 'gemma2:2b-instruct-q4_1' # 'gemma2:9b-instruct-q4_1'"
   ]
  },
  {
   "cell_type": "code",
   "execution_count": 3,
   "metadata": {},
   "outputs": [],
   "source": [
    "# --- Charger le fichier\n",
    "from pathlib import Path\n",
    "from langchain_community.document_loaders import PyPDFLoader\n",
    "\n",
    "fichier = Path('../data/pdf/rag-civ/211.10.64-Code-civil-I-ivoirien.pdf')\n",
    "loader = PyPDFLoader(fichier)\n",
    "pages = loader.load_and_split()"
   ]
  },
  {
   "cell_type": "code",
   "execution_count": 4,
   "metadata": {},
   "outputs": [
    {
     "data": {
      "text/plain": [
       "Document(metadata={'source': '..\\\\data\\\\pdf\\\\rag-civ\\\\211.10.64-Code-civil-I-ivoirien.pdf', 'page': 1}, page_content=\"3 TITRE PRELIMINAIRE : \\nDE LA PUBLICATION, DES EFFETS  \\nET DE L'APPLICATION DES LOIS EN GENERAL \\n \\n  \\nARTICLE 1 \\nLes lois sont exécutoires, dans tout le territoire ivoirien, de la \\npromulgation qui en est faite par le Président de la République.  \\nElles seront exécutées dans chaque partie de la République,  du moment \\noù la promulgation en pourra être connue. \\n \\nARTICLE 2 \\nLa loi ne dispose que pour l'avenir, elle n'a point d'effet rétr oactif. \\n \\n ARTICLE 3 \\nLes lois de police et de sûreté obligent tous ceux qui habitent le ter ritoire. \\nLes immeubles, même ceux possédés par des étrangers, sont régis  par la \\nloi ivoirienne \\nLes lois concernant l'état et la capacité des personnes régisse nt les \\nIvoiriens, même résidant en pays étrangers. \\n \\n ARTICLE 4 \\nLe juge qui refusera de juger, sous prétexte du silence, de l'obscur ité ou \\nde l'insuffisance de la loi, pourra être poursuivi comme coupab le de déni \\nde justice.\")"
      ]
     },
     "execution_count": 4,
     "metadata": {},
     "output_type": "execute_result"
    }
   ],
   "source": [
    "# check\n",
    "pages[1]"
   ]
  },
  {
   "cell_type": "code",
   "execution_count": 5,
   "metadata": {},
   "outputs": [],
   "source": [
    "# Splitter le texte du fichier par groupes de 1000 tokens\n",
    "from langchain_text_splitters import RecursiveCharacterTextSplitter\n",
    "\n",
    "text_splitter = RecursiveCharacterTextSplitter(chunk_size=1000, chunk_overlap=200, separators=['\\n\\n', '\\n', ' '])\n",
    "chunks = text_splitter.split_documents(pages)"
   ]
  },
  {
   "cell_type": "code",
   "execution_count": 6,
   "metadata": {},
   "outputs": [
    {
     "data": {
      "text/plain": [
       "Document(metadata={'source': '..\\\\data\\\\pdf\\\\rag-civ\\\\211.10.64-Code-civil-I-ivoirien.pdf', 'page': 9}, page_content=\"l'individu présumé absent. \\n \\n ARTICLE 118 \\nLe Procureur de la République enverra, aussitôt qu'ils seront rendus, les \\njugements, tant préparatoires que définitifs, au ministère de la Jus tice qui \\nles rendra publics. \\n \\n ARTICLE 119 \\nLe jugement de déclaration d'absence ne sera rendu qu’un (1 ) an après le \\njugement qui aura ordonné l'enquête.\")"
      ]
     },
     "execution_count": 6,
     "metadata": {},
     "output_type": "execute_result"
    }
   ],
   "source": [
    "# check\n",
    "chunks[12]"
   ]
  },
  {
   "cell_type": "markdown",
   "metadata": {},
   "source": [
    "### <a id='vector-database'>2. Vector database</a>"
   ]
  },
  {
   "cell_type": "markdown",
   "metadata": {},
   "source": [
    "Créer les embeddings des chunks de texte et les envoyer au vector store."
   ]
  },
  {
   "cell_type": "code",
   "execution_count": 7,
   "metadata": {},
   "outputs": [],
   "source": [
    "from langchain_ollama import OllamaEmbeddings\n",
    "from langchain.embeddings import HuggingFaceEmbeddings\n",
    "from langchain_postgres.vectorstores import PGVector"
   ]
  },
  {
   "cell_type": "code",
   "execution_count": 8,
   "metadata": {},
   "outputs": [
    {
     "name": "stderr",
     "output_type": "stream",
     "text": [
      "C:\\Users\\Nelly\\AppData\\Local\\Temp\\ipykernel_18820\\1110162454.py:3: LangChainDeprecationWarning: The class `HuggingFaceEmbeddings` was deprecated in LangChain 0.2.2 and will be removed in 1.0. An updated version of the class exists in the langchain-huggingface package and should be used instead. To use it run `pip install -U langchain-huggingface` and import as `from langchain_huggingface import HuggingFaceEmbeddings`.\n",
      "  embeddings = HuggingFaceEmbeddings(\n",
      "g:\\Utilisateurs\\Nelly\\Travail_Perso\\python-envs\\genai-test2\\Lib\\site-packages\\sentence_transformers\\cross_encoder\\CrossEncoder.py:13: TqdmExperimentalWarning: Using `tqdm.autonotebook.tqdm` in notebook mode. Use `tqdm.tqdm` instead to force console mode (e.g. in jupyter console)\n",
      "  from tqdm.autonotebook import tqdm, trange\n",
      "INFO:numexpr.utils:NumExpr defaulting to 8 threads.\n",
      "INFO:sentence_transformers.SentenceTransformer:Use pytorch device_name: cpu\n",
      "INFO:sentence_transformers.SentenceTransformer:Load pretrained SentenceTransformer: bert-base-multilingual-cased\n",
      "WARNING:sentence_transformers.SentenceTransformer:No sentence-transformers model found with name bert-base-multilingual-cased. Creating a new one with mean pooling.\n",
      "g:\\Utilisateurs\\Nelly\\Travail_Perso\\python-envs\\genai-test2\\Lib\\site-packages\\transformers\\tokenization_utils_base.py:1601: FutureWarning: `clean_up_tokenization_spaces` was not set. It will be set to `True` by default. This behavior will be depracted in transformers v4.45, and will be then set to `False` by default. For more details check this issue: https://github.com/huggingface/transformers/issues/31884\n",
      "  warnings.warn(\n"
     ]
    }
   ],
   "source": [
    "# Initialiser le modèle d'embeddings\n",
    "# embeddings = OllamaEmbeddings(model=model_name)\n",
    "embeddings = HuggingFaceEmbeddings(\n",
    "    # model_name=\"sentence-transformers/paraphrase-multilingual-MiniLM-L12-v2\")\n",
    "    model_name=\"bert-base-multilingual-cased\")"
   ]
  },
  {
   "cell_type": "code",
   "execution_count": 9,
   "metadata": {},
   "outputs": [
    {
     "name": "stderr",
     "output_type": "stream",
     "text": [
      "INFO:__main__:Checking if collection code-civil-ci exists\n",
      "INFO:__main__:Collection code-civil-ci does not exist. Creating..\n",
      "INFO:__main__:Collection code-civil-ci successfully created.\n"
     ]
    }
   ],
   "source": [
    "# Envoyer les chunks au vector store ou lire l'existant\n",
    "import psycopg\n",
    "\n",
    "\n",
    "scheme = \"postgresql\"\n",
    "connection = f\"{scheme}://raguser:abcdefgh@localhost:5432/testdb\"\n",
    "conn = psycopg.connect(conninfo=connection)\n",
    "schema_name = \"rags\"\n",
    "collection_name = \"code-civil-ci\"\n",
    "\n",
    "try:\n",
    "    scheme = \"postgresql+psycopg\"\n",
    "    connection = f\"{scheme}://raguser:abcdefgh@localhost:5432/testdb\"\n",
    "\n",
    "    simple_logger.info('Checking if collection {0} exists'.format(collection_name))\n",
    "    cursor = conn.cursor()\n",
    "    cursor.execute(f\"select name from {schema_name}.langchain_pg_collection where name='{collection_name}';\")\n",
    "\n",
    "    cursor.fetchone()[0]\n",
    "\n",
    "    vector_store = PGVector.from_existing_index(\n",
    "        embedding=embeddings,\n",
    "        collection_name=collection_name,\n",
    "        connection=connection\n",
    "        )\n",
    "    simple_logger.info('OK, instance created for existing collection {0}'.format(collection_name))\n",
    "except:\n",
    "    simple_logger.info('Collection {0} does not exist. Creating..'.format(collection_name))\n",
    "    vector_store = PGVector.from_documents(\n",
    "        embedding=embeddings,\n",
    "        documents=chunks,\n",
    "        collection_name=collection_name,\n",
    "        connection=connection,\n",
    "        ids=[id+1 for id in range(len(chunks))],\n",
    "        use_jsonb=True,\n",
    "    )\n",
    "    simple_logger.info('Collection {0} successfully created.'.format(collection_name))\n",
    "\n",
    "conn.close()\n",
    "\n"
   ]
  },
  {
   "cell_type": "markdown",
   "metadata": {},
   "source": [
    "### <a id='rag'>3. RAG</a>"
   ]
  },
  {
   "cell_type": "code",
   "execution_count": 10,
   "metadata": {},
   "outputs": [],
   "source": [
    "from langchain_core.runnables import RunnablePassthrough\n",
    "from langchain_core.output_parsers import StrOutputParser\n",
    "from langchain_ollama import ChatOllama\n",
    "from langchain.prompts import ChatPromptTemplate"
   ]
  },
  {
   "cell_type": "code",
   "execution_count": 11,
   "metadata": {},
   "outputs": [],
   "source": [
    "# Initialiser le modèle de chat\n",
    "llm = ChatOllama(model=model_name, temperature=0)"
   ]
  },
  {
   "cell_type": "code",
   "execution_count": 12,
   "metadata": {},
   "outputs": [],
   "source": [
    "# Initialiser le retriever\n",
    "\n",
    "retriever = vector_store.as_retriever(search_type='mmr', search_kwargs={'k': 5, 'fetch_k': 10})\n",
    "\n",
    "prompt_template = '''You are an assistant for question-answering tasks in french. \\\n",
    "Use the following pieces of retrieved context to answer the question. \\\n",
    "If you don't know the answer, just say that you don't know. \\\n",
    "Use three sentences maximum and keep the answer concise. \\\n",
    "Respond in french.\n",
    "Question: {question} \n",
    "Context: {context} \n",
    "Answer:\n",
    "'''\n",
    "\n",
    "prompt = ChatPromptTemplate.from_template(prompt_template)"
   ]
  },
  {
   "cell_type": "code",
   "execution_count": 13,
   "metadata": {},
   "outputs": [],
   "source": [
    "rag_chain = (\n",
    "    {\"context\": retriever, \"question\": RunnablePassthrough()}\n",
    "    | prompt\n",
    "    | llm\n",
    "    | StrOutputParser()\n",
    ")"
   ]
  },
  {
   "cell_type": "markdown",
   "metadata": {},
   "source": [
    "Poser des questions à notre pdf"
   ]
  },
  {
   "cell_type": "code",
   "execution_count": 14,
   "metadata": {},
   "outputs": [
    {
     "name": "stderr",
     "output_type": "stream",
     "text": [
      "INFO:httpx:HTTP Request: POST http://127.0.0.1:11434/api/chat \"HTTP/1.1 200 OK\"\n"
     ]
    },
    {
     "data": {
      "text/plain": [
       "\"Je n'ai pas trouvé la réponse à votre question dans les documents fournis. \\n\""
      ]
     },
     "execution_count": 14,
     "metadata": {},
     "output_type": "execute_result"
    }
   ],
   "source": [
    "# Trouver le tribunal cométent pour une requête conjointe de divorce\n",
    "rag_chain.invoke('Quel tribunal territorial a la possibilité de répondre à la requête de divorce en cas de consentement ?')"
   ]
  },
  {
   "cell_type": "markdown",
   "metadata": {},
   "source": [
    "Ajouter la possibilité au modèle d'inclure la source dans la réponse  \n"
   ]
  },
  {
   "cell_type": "code",
   "execution_count": 15,
   "metadata": {},
   "outputs": [],
   "source": [
    "from typing_extensions import Annotated, TypedDict\n",
    "from typing import List\n",
    "\n",
    "# Schéma de la réponse\n",
    "class AnswerWithSources(TypedDict):\n",
    "    answer: str\n",
    "    sources: Annotated[\n",
    "        List[str],\n",
    "        ...,\n",
    "        \"List of sources (author + year) used to answer the question\",\n",
    "    ]"
   ]
  },
  {
   "cell_type": "code",
   "execution_count": 20,
   "metadata": {},
   "outputs": [],
   "source": [
    "rag_chain2 = (\n",
    "    {\n",
    "        \"question\": lambda x: x[\"question\"],\n",
    "        \"context\": lambda x: x[\"context\"],\n",
    "    }\n",
    "    | prompt\n",
    "    | llm\n",
    "    | StrOutputParser()\n",
    ")"
   ]
  },
  {
   "cell_type": "code",
   "execution_count": 21,
   "metadata": {},
   "outputs": [],
   "source": [
    "# On passe la question au retriever\n",
    "response_docs = (lambda x: x['question']) | retriever"
   ]
  },
  {
   "cell_type": "code",
   "execution_count": 22,
   "metadata": {},
   "outputs": [],
   "source": [
    "chain_w_source = RunnablePassthrough.assign(context=response_docs).assign(\n",
    "    answer=rag_chain2\n",
    ")"
   ]
  },
  {
   "cell_type": "code",
   "execution_count": 23,
   "metadata": {},
   "outputs": [
    {
     "name": "stderr",
     "output_type": "stream",
     "text": [
      "INFO:httpx:HTTP Request: POST http://127.0.0.1:11434/api/chat \"HTTP/1.1 200 OK\"\n"
     ]
    },
    {
     "data": {
      "text/plain": [
       "{'question': 'Quel tribunal territorial a la possibilité de répondre à la requête de divorce en cas de consentement ?',\n",
       " 'context': [Document(id='222', metadata={'page': 128, 'source': '..\\\\data\\\\pdf\\\\rag-civ\\\\211.10.64-Code-civil-I-ivoirien.pdf'}, page_content=\"130 Le juge peut, par décision motivée, refuser l'homologation de la \\nConvention s'il constate que celui-ci préserve insuffisamment les in térêts \\ndes enfants ou de l'un des époux. Dans cette hypothèse, il ne prononc e \\npas le divorce. Cette décision de rejet, ainsi que celles rendu es en \\nviolation de dispositions d'ordre public, sont susceptibles d' appel par \\ndéclaration au greffe du tribunal dans un délai de trente (30) jours à \\ncompter du jour de la notification faite aux parties par le greffie r à la \\ndiligence du ministère public. \\n \\nARTICLE 13 \\nExtrait du jugement ou de l'arrêt qui prononce le divorce ou la  séparation \\nde corps est inséré, à la diligence du ministère public, dans un  journal \\nd'annonces légales. \\n \\n ARTICLE 14 \\nLe dispositif du jugement ou de l'arrêt qui prononce le divorce o u la \\nséparation de corps est mentionné en marge de l'acte de mariage et des \\nactes de naissance de chacun des époux.\"),\n",
       "  Document(id='345', metadata={'page': 199, 'source': '..\\\\data\\\\pdf\\\\rag-civ\\\\211.10.64-Code-civil-I-ivoirien.pdf'}, page_content='ARTICLE 76 \\nLe tribunal dans le ressort duquel la succession est ouverte, n omme un \\ncurateur sur la demande des personnes intéressées ou sur la réq uisition du \\nprocureur de la République.'),\n",
       "  Document(id='554', metadata={'page': 319, 'source': '..\\\\data\\\\pdf\\\\rag-civ\\\\211.10.64-Code-civil-I-ivoirien.pdf'}, page_content=\"diligence du ministère public au Juge des tutelles du domicile ou de la \\nrésidence du mineur. \\n \\nARTICLE 149 : \\nLe Juge des tutelles convoque la personne contre laquelle est inten tée \\nl'action, procède à son audition et, s'il l'estime utile, à celle du mineur ou \\nde toute autre personne. Il doit faire procéder à une enquête sociale  et \\nrecueillir tous renseignements sur la famille du mineur. \\nIl demande, s'il y a lieu, l'avis du conseil de famille, et fa it procéder, si \\nbesoin est, aux examens visés à l'article 143. \\n \\nARTICLE 150 : \\nDans le cas d'une demande de restitution des droits de l'autorité pa rentale, \\nsi la tutelle est organisée, le Juge des tutelles doit, avant de statuer, \\nrecueill ir l'avis du conseil de famille.\"),\n",
       "  Document(id='442', metadata={'page': 257, 'source': '..\\\\data\\\\pdf\\\\rag-civ\\\\211.10.64-Code-civil-I-ivoirien.pdf'}, page_content=\"259 ARTICLE 23  \\nLes dots versées à l'occasion des mariages contractés antérie urement à la \\npromulgation de la présente loi ne pourront donner lieu à répétition . \\nToutefois, en cas de divorce prononcé aux torts et griefs ex clusifs de \\nl'épouse, le tribunal pourra en ordonner la restitution partie lle ou totale.\"),\n",
       "  Document(id='13', metadata={'page': 9, 'source': '..\\\\data\\\\pdf\\\\rag-civ\\\\211.10.64-Code-civil-I-ivoirien.pdf'}, page_content=\"l'individu présumé absent. \\n \\n ARTICLE 118 \\nLe Procureur de la République enverra, aussitôt qu'ils seront rendus, les \\njugements, tant préparatoires que définitifs, au ministère de la Jus tice qui \\nles rendra publics. \\n \\n ARTICLE 119 \\nLe jugement de déclaration d'absence ne sera rendu qu’un (1 ) an après le \\njugement qui aura ordonné l'enquête.\")],\n",
       " 'answer': \"Je n'ai pas trouvé la réponse à votre question dans les documents fournis. \\n\"}"
      ]
     },
     "execution_count": 23,
     "metadata": {},
     "output_type": "execute_result"
    }
   ],
   "source": [
    "chain_w_source.invoke({'question':'Quel tribunal territorial a la possibilité de répondre à la requête de divorce en cas de consentement ?'})"
   ]
  },
  {
   "cell_type": "code",
   "execution_count": 24,
   "metadata": {},
   "outputs": [
    {
     "name": "stderr",
     "output_type": "stream",
     "text": [
      "INFO:httpx:HTTP Request: POST http://127.0.0.1:11434/api/chat \"HTTP/1.1 200 OK\"\n"
     ]
    },
    {
     "data": {
      "text/plain": [
       "{'question': 'Quels sont les mariages interdits en Côte dIvoire?',\n",
       " 'context': [Document(id='60', metadata={'page': 37, 'source': '..\\\\data\\\\pdf\\\\rag-civ\\\\211.10.64-Code-civil-I-ivoirien.pdf'}, page_content='éléments de l’acte lui -même établissent, le cas échéant, après vérification, \\nque cet acte est irrégulier, falsifié ou que les faits qui y sont décl arés ne \\ncorrespondent pas à la réalité. \\nCeux de ces actes qui concernent les Ivoiriens, sont transcrits, soit \\nd’office, soit à la demande des intéressés, sur les registres de l ’état civil \\nde l’année courante tenus par les agents diplomatiques ou les consul s'),\n",
       "  Document(id='6', metadata={'page': 4, 'source': '..\\\\data\\\\pdf\\\\rag-civ\\\\211.10.64-Code-civil-I-ivoirien.pdf'}, page_content=\"étranger. \\n \\n ARTICLE 16 \\nEn toutes matières, l'étranger qui sera demandeur principal ou inte rvenant \\nsera tenu de donner caution pour le paiement des frais et dommages-\\nintérêts résultant du procès, à moins qu'il ne possède en Côte d'Ivoire  des \\nimmeubles d'une valeur suffisante pour assurer ce paiement.\"),\n",
       "  Document(id='162', metadata={'page': 95, 'source': '..\\\\data\\\\pdf\\\\rag-civ\\\\211.10.64-Code-civil-I-ivoirien.pdf'}, page_content='97 SECTION 3 : \\nDES MARIAGES CONTRACTES EN PAYS ETRANGER \\n \\nARTICLE 25 \\nLe mariage contracté en pays ivoiriens ou entre un ivoirien e t un étranger \\nest valable s’il a été célébré dans les formes usitées dans l e pays \\nconsidéré, à condition qu e l’ivoirien n’ait point contrevenu aux \\ndispositions de fond exigées par la loi ivoirienne. \\nIl en est de même du mariage contracté en pays étranger entre  ivoiriens \\nou entre un ivoirien et un étranger s’il a été célébré par les a gents \\ndiplomatiques ou les c onsuls de la Côte d’Ivoire conformément à la loi \\nivoirienne.'),\n",
       "  Document(id='351', metadata={'page': 202, 'source': '..\\\\data\\\\pdf\\\\rag-civ\\\\211.10.64-Code-civil-I-ivoirien.pdf'}, page_content='tenus des préjudices résultant du partage, occasionnés aux héritie rs \\nmineurs ou majeurs sous tutelle. \\nToute liquidation-partage commence par un inventaire. A défaut \\nd’inventaire, les héritiers que la loi entend protéger peuvent pro uver la \\nconsistance de la succession par tous moyens.'),\n",
       "  Document(id='1', metadata={'page': 0, 'source': '..\\\\data\\\\pdf\\\\rag-civ\\\\211.10.64-Code-civil-I-ivoirien.pdf'}, page_content='2 Téléchargez tous vos codes sur : www.ivoire-juriste.com  \\n \\n \\n \\n \\nCODE CIVIL I \\nDroit des personnes et de la famille')],\n",
       " 'answer': \"Je ne connais pas les mariages interdits en Côte d'Ivoire. \\n\"}"
      ]
     },
     "execution_count": 24,
     "metadata": {},
     "output_type": "execute_result"
    }
   ],
   "source": [
    "chain_w_source.invoke({'question':'Quels sont les mariages interdits en Côte d''Ivoire?'})"
   ]
  },
  {
   "cell_type": "code",
   "execution_count": 25,
   "metadata": {},
   "outputs": [
    {
     "name": "stderr",
     "output_type": "stream",
     "text": [
      "INFO:httpx:HTTP Request: POST http://127.0.0.1:11434/api/chat \"HTTP/1.1 200 OK\"\n"
     ]
    },
    {
     "data": {
      "text/plain": [
       "{'question': 'La polygamie est-elle autorisée?',\n",
       " 'context': [Document(id='3', metadata={'page': 2, 'source': '..\\\\data\\\\pdf\\\\rag-civ\\\\211.10.64-Code-civil-I-ivoirien.pdf'}, page_content=\"4 ARTICLE 5 \\nIl est défendu aux juges de prononcer par voie de disposition gé nérale, et \\nréglementaire sur les causes qui leur sont soumises. \\n \\n ARTICLE 6 \\nOn ne peut déroger, par des conventions particulières, aux lois qu i \\nintéressent l'ordre public et les bonnes mœurs.\"),\n",
       "  Document(id='170', metadata={'page': 100, 'source': '..\\\\data\\\\pdf\\\\rag-civ\\\\211.10.64-Code-civil-I-ivoirien.pdf'}, page_content='nul ne peut se prévaloir des irrégularités de cet acte. \\n  \\nARTICLE 43 \\nNul ne peut contester la légitimité d’un enfant, dont le père ou la mère  est \\ndécédé, les fois que cette légitimité est prouvée par une possessi on d’état \\nqui n’est point contredite par l’acte de naissance.'),\n",
       "  Document(id='297', metadata={'page': 170, 'source': '..\\\\data\\\\pdf\\\\rag-civ\\\\211.10.64-Code-civil-I-ivoirien.pdf'}, page_content=\"est dans l'impossibilité de manifester sa volonté ou s'il y a séparati on de \\ncorps entre les époux ou même demande soit de divorce, soit de \\nséparation de corps. \\nLes adoptants doivent avoir quinze ans de plus que les personnes qu'ils se  \\nproposent d'adopter. Si ces dernières sont les enfants de leurs époux, l a \\ndifférence d'âge exigée n'est que de dix ans. \\nToutefois le tribunal peut, s'il y a de justes motifs, prononce r l'adoption \\nlorsque la différence d'âge est inférieure à celles prévues  à l'alinéa \\nprécédent.\"),\n",
       "  Document(id='345', metadata={'page': 199, 'source': '..\\\\data\\\\pdf\\\\rag-civ\\\\211.10.64-Code-civil-I-ivoirien.pdf'}, page_content='ARTICLE 76 \\nLe tribunal dans le ressort duquel la succession est ouverte, n omme un \\ncurateur sur la demande des personnes intéressées ou sur la réq uisition du \\nprocureur de la République.'),\n",
       "  Document(id='2', metadata={'page': 1, 'source': '..\\\\data\\\\pdf\\\\rag-civ\\\\211.10.64-Code-civil-I-ivoirien.pdf'}, page_content=\"3 TITRE PRELIMINAIRE : \\nDE LA PUBLICATION, DES EFFETS  \\nET DE L'APPLICATION DES LOIS EN GENERAL \\n \\n  \\nARTICLE 1 \\nLes lois sont exécutoires, dans tout le territoire ivoirien, de la \\npromulgation qui en est faite par le Président de la République.  \\nElles seront exécutées dans chaque partie de la République,  du moment \\noù la promulgation en pourra être connue. \\n \\nARTICLE 2 \\nLa loi ne dispose que pour l'avenir, elle n'a point d'effet rétr oactif. \\n \\n ARTICLE 3 \\nLes lois de police et de sûreté obligent tous ceux qui habitent le ter ritoire. \\nLes immeubles, même ceux possédés par des étrangers, sont régis  par la \\nloi ivoirienne \\nLes lois concernant l'état et la capacité des personnes régisse nt les \\nIvoiriens, même résidant en pays étrangers. \\n \\n ARTICLE 4 \\nLe juge qui refusera de juger, sous prétexte du silence, de l'obscur ité ou \\nde l'insuffisance de la loi, pourra être poursuivi comme coupab le de déni \\nde justice.\")],\n",
       " 'answer': \"Je ne peux pas répondre à cette question.  Le document que vous avez fourni n'abrite aucune information sur la polygamie en Côte d'Ivoire. \\n\"}"
      ]
     },
     "execution_count": 25,
     "metadata": {},
     "output_type": "execute_result"
    }
   ],
   "source": [
    "chain_w_source.invoke({'question':'La polygamie est-elle autorisée?'})"
   ]
  },
  {
   "cell_type": "code",
   "execution_count": 27,
   "metadata": {},
   "outputs": [],
   "source": [
    "#TODO : try a different model for LLM and/or embedding for better retrieval."
   ]
  }
 ],
 "metadata": {
  "authors": [
   {
    "name": "Nelly Traore"
   }
  ],
  "kernelspec": {
   "display_name": "genai-test2",
   "language": "python",
   "name": "genai-test2"
  },
  "language_info": {
   "codemirror_mode": {
    "name": "ipython",
    "version": 3
   },
   "file_extension": ".py",
   "mimetype": "text/x-python",
   "name": "python",
   "nbconvert_exporter": "python",
   "pygments_lexer": "ipython3",
   "version": "3.11.9"
  }
 },
 "nbformat": 4,
 "nbformat_minor": 4
}
